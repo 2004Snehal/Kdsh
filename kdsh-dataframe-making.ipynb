{
 "cells": [
  {
   "cell_type": "code",
   "execution_count": 1,
   "id": "c72780e3",
   "metadata": {
    "_cell_guid": "b1076dfc-b9ad-4769-8c92-a6c4dae69d19",
    "_uuid": "8f2839f25d086af736a60e9eeb907d3b93b6e0e5",
    "execution": {
     "iopub.execute_input": "2025-01-11T15:00:08.542345Z",
     "iopub.status.busy": "2025-01-11T15:00:08.542042Z",
     "iopub.status.idle": "2025-01-11T15:00:13.822423Z",
     "shell.execute_reply": "2025-01-11T15:00:13.821221Z"
    },
    "papermill": {
     "duration": 5.292705,
     "end_time": "2025-01-11T15:00:13.824690",
     "exception": false,
     "start_time": "2025-01-11T15:00:08.531985",
     "status": "completed"
    },
    "tags": []
   },
   "outputs": [
    {
     "name": "stdout",
     "output_type": "stream",
     "text": [
      "Collecting PyPDF2\r\n",
      "  Downloading pypdf2-3.0.1-py3-none-any.whl.metadata (6.8 kB)\r\n",
      "Downloading pypdf2-3.0.1-py3-none-any.whl (232 kB)\r\n",
      "\u001b[2K   \u001b[90m━━━━━━━━━━━━━━━━━━━━━━━━━━━━━━━━━━━━━━━━\u001b[0m \u001b[32m232.6/232.6 kB\u001b[0m \u001b[31m7.5 MB/s\u001b[0m eta \u001b[36m0:00:00\u001b[0m\r\n",
      "\u001b[?25hInstalling collected packages: PyPDF2\r\n",
      "Successfully installed PyPDF2-3.0.1\r\n"
     ]
    }
   ],
   "source": [
    "!pip install PyPDF2"
   ]
  },
  {
   "cell_type": "code",
   "execution_count": 2,
   "id": "88711526",
   "metadata": {
    "execution": {
     "iopub.execute_input": "2025-01-11T15:00:13.846864Z",
     "iopub.status.busy": "2025-01-11T15:00:13.846567Z",
     "iopub.status.idle": "2025-01-11T15:00:14.094368Z",
     "shell.execute_reply": "2025-01-11T15:00:14.093412Z"
    },
    "papermill": {
     "duration": 0.259554,
     "end_time": "2025-01-11T15:00:14.095889",
     "exception": false,
     "start_time": "2025-01-11T15:00:13.836335",
     "status": "completed"
    },
    "tags": []
   },
   "outputs": [],
   "source": [
    "from PyPDF2 import PdfReader\n",
    "import os\n",
    "\n",
    "# Path to the dataset folder in Kaggle\n",
    "dataset_folder = '/kaggle/input/kdsh-datasetheadx/KDSH Dataset'\n",
    "\n",
    "# List all PDF files in the folder\n",
    "pdf_files = [file for file in os.listdir(dataset_folder) if file.endswith('.pdf')]\n",
    "ds_unclassified = [file for file in os.listdir(dataset_folder) if file.endswith('.pdf') and file.startswith('P')]\n",
    "ds_publishnot = [file for file in pdf_files if 'R001' <= file <= 'R006']\n",
    "ds_publish = [file for file in pdf_files if 'R006' <= file <= 'R016']"
   ]
  },
  {
   "cell_type": "code",
   "execution_count": 3,
   "id": "f591f573",
   "metadata": {
    "execution": {
     "iopub.execute_input": "2025-01-11T15:00:14.114288Z",
     "iopub.status.busy": "2025-01-11T15:00:14.114014Z",
     "iopub.status.idle": "2025-01-11T15:00:14.118262Z",
     "shell.execute_reply": "2025-01-11T15:00:14.117441Z"
    },
    "papermill": {
     "duration": 0.014789,
     "end_time": "2025-01-11T15:00:14.119588",
     "exception": false,
     "start_time": "2025-01-11T15:00:14.104799",
     "status": "completed"
    },
    "tags": []
   },
   "outputs": [
    {
     "name": "stdout",
     "output_type": "stream",
     "text": [
      "['R003.pdf', 'R005.pdf', 'R002.pdf', 'R004.pdf', 'R001.pdf']\n",
      "['R015.pdf', 'R010.pdf', 'R012.pdf', 'R008.pdf', 'R011.pdf', 'R007.pdf', 'R009.pdf', 'R013.pdf', 'R014.pdf', 'R006.pdf']\n"
     ]
    }
   ],
   "source": [
    "print(ds_publishnot)\n",
    "print(ds_publish)"
   ]
  },
  {
   "cell_type": "code",
   "execution_count": 4,
   "id": "436b44dc",
   "metadata": {
    "execution": {
     "iopub.execute_input": "2025-01-11T15:00:14.137313Z",
     "iopub.status.busy": "2025-01-11T15:00:14.137003Z",
     "iopub.status.idle": "2025-01-11T15:00:40.714113Z",
     "shell.execute_reply": "2025-01-11T15:00:40.712823Z"
    },
    "papermill": {
     "duration": 26.587852,
     "end_time": "2025-01-11T15:00:40.715928",
     "exception": false,
     "start_time": "2025-01-11T15:00:14.128076",
     "status": "completed"
    },
    "tags": []
   },
   "outputs": [
    {
     "name": "stdout",
     "output_type": "stream",
     "text": [
      "     PDF Name                                     Title of Paper  \\\n",
      "0    P063.pdf  Representation Transferability in Neural Networks   \n",
      "1    P038.pdf  Utilizing Graph Neural Networks to Analyze Esp...   \n",
      "2    P119.pdf  Entropy Dynamics in Turbulent Flumplenook Systems   \n",
      "3    P071.pdf  The Significance of Fillers in Textual Represe...   \n",
      "4    P020.pdf  Deep Learning for 3D Protein Structure Predict...   \n",
      "..        ...                                                ...   \n",
      "145  P050.pdf  Interpreting Recurrent and Attention-Based Neural   \n",
      "146  P134.pdf     Unraveling the Enigmatic Parallels Between DNA   \n",
      "147  P101.pdf          A Convolutional LSTM Network Approach for   \n",
      "148  P073.pdf  Exploring Soil Dynamics through a Multidiscipl...   \n",
      "149  P096.pdf  Volcanic Eruptions in Relation to Quiche Recip...   \n",
      "\n",
      "                                              Abstract  \\\n",
      "0    Abstract\\nDeep neural networks, which are buil...   \n",
      "1    Abstract\\nGraph Neural Networks (GNNs) for Pre...   \n",
      "2    Abstract\\nThe notion of flamboyant jellyfish d...   \n",
      "3    Abstract\\nThis paper investigates the role of ...   \n",
      "4    Abstract\\nDeep learning has revolutionized the...   \n",
      "..                                                 ...   \n",
      "145  Abstract\\nDeep learning models have achieved r...   \n",
      "146  Abstract\\nThe quintessential nature of DNA is ...   \n",
      "147  Abstract\\nThis paper presents a methodology fo...   \n",
      "148  Abstract\\nThe ostensibly mundane realm of soil...   \n",
      "149  Abstract\\nThe ephemeral nature of volcanic eru...   \n",
      "\n",
      "                                          Introduction  \\\n",
      "0    1 Introduction\\nDeep networks, constructed wit...   \n",
      "1    1 Introduction\\nThe realm of Graph Neural Netw...   \n",
      "2    1 Introduction\\nThe notion of entropy, a conce...   \n",
      "3    1 Introduction\\nThis paper addresses the criti...   \n",
      "4    1 Introduction\\nThe prediction of 3D protein s...   \n",
      "..                                                 ...   \n",
      "145  1 Introduction\\nDeep learning has achieved tre...   \n",
      "146  1 Introduction\\nThe intersection of quantum me...   \n",
      "147  1 Introduction\\nThis paper addresses the criti...   \n",
      "148  1 Introduction\\nThe fledgling discipline of so...   \n",
      "149  1 Introduction\\nThe ostensibly unrelated field...   \n",
      "\n",
      "                                             Section 2  \\\n",
      "0    2 Citation Networks\\n2.1 Methods\\nWe have prod...   \n",
      "1    2 Related Work\\nThe study of Graph Neural Netw...   \n",
      "2    2 Related Work\\nThe concept of entropy has bee...   \n",
      "3    2 Models and Data Description\\n2.1 Model Descr...   \n",
      "4    2 Related Work\\nDeep learning has revolutioniz...   \n",
      "..                                                 ...   \n",
      "145  2 Task and Model\\nIn NLI, we are given two sen...   \n",
      "146  2 Related Work\\nThe study of DNA has been infl...   \n",
      "147  2 Methodology\\n2.1 Dataset and Processing\\nA t...   \n",
      "148  2 Related Work\\nThe concept of soil has been e...   \n",
      "149  2 Related Work\\nThe notion of volcanoes as sen...   \n",
      "\n",
      "                                             Section 3  \\\n",
      "0    3 Limitations\\nThe results presented here have...   \n",
      "1    3 Methodology\\nTo develop a comprehensive fram...   \n",
      "2    3 Methodology\\nThe investigation of entropy ne...   \n",
      "3    3 Confidence and Sentiment Prediction\\nIn task...   \n",
      "4    3 Methodology\\nThe development of deep learnin...   \n",
      "..                                                 ...   \n",
      "145  3 Visualization of Attention and Gating\\nwe ar...   \n",
      "146  3 Methodology\\nIn order to facilitate a deeper...   \n",
      "147  3 Comparison Experiments\\nMultiple Instance Le...   \n",
      "148  3 Methodology\\nThe notion of flamenco dancing ...   \n",
      "149  3 Methodology\\nThe notion of fluorinated cake ...   \n",
      "\n",
      "                                     Rest of the Paper  \n",
      "0    4 Consequences\\nWhile American and Chinese res...  \n",
      "1    4 Experiments\\nTo facilitate a comprehensive e...  \n",
      "2    4 Experiments\\nThe perpetual oscillations of q...  \n",
      "3    4 Conclusion\\nThis paper demonstrates that ret...  \n",
      "4    4 Experiments\\nTo evaluate the effectiveness o...  \n",
      "..                                                 ...  \n",
      "145  4 Conclusion\\nWe propose new visualization and...  \n",
      "146  4 Experiments\\nThe experimental design involve...  \n",
      "147                                               nill  \n",
      "148  4 Experiments\\nThe methodology employed in thi...  \n",
      "149  4 Experiments\\nThe experimentation process com...  \n",
      "\n",
      "[150 rows x 7 columns]\n"
     ]
    }
   ],
   "source": [
    "import pandas as pd\n",
    "import re\n",
    "import os\n",
    "from PyPDF2 import PdfReader\n",
    "\n",
    "# Initialize a list to store the extracted data\n",
    "data = []\n",
    "\n",
    "# Extract required information from each PDF\n",
    "for pdf_file in pdf_files:\n",
    "    file_path = os.path.join(dataset_folder, pdf_file)\n",
    "    reader = PdfReader(file_path)\n",
    "    \n",
    "    # Extract text from all pages of the PDF\n",
    "    full_text = \"\"\n",
    "    for page in reader.pages:\n",
    "        full_text += page.extract_text()\n",
    "    \n",
    "    # Extract information\n",
    "    pdf_name = pdf_file\n",
    "    title = full_text.split('\\n')[0]  # Assume the title is the first line\n",
    "    abstract_start = full_text.lower().find(\"abstract\")\n",
    "    intro_start = full_text.lower().find(\"1 introduction\")\n",
    "    abstract = full_text[abstract_start:intro_start].strip() if abstract_start != -1 and intro_start != -1 else \"N/A\"\n",
    "    \n",
    "    # Define the pattern for Section 2\n",
    "    pattern2 = r\"2\\s[A-Z][a-zA-Z\\s]+\\n\"\n",
    "    match = re.search(pattern2, full_text)\n",
    "    introend_search = match.start() if match else -1\n",
    "    introduction_end = introend_search\n",
    "    introduction = full_text[intro_start:introduction_end].strip() if intro_start != -1 else \"N/A\"\n",
    "    \n",
    "    # Search for Section 2\n",
    "    section2_start = introduction_end\n",
    "    pattern3 = r\"3\\s[A-Z][a-zA-Z\\s]+\\n\"\n",
    "    match3 = re.search(pattern3, full_text)\n",
    "    section2end_search = match3.start() if match3 else -1\n",
    "    section2_end = section2end_search\n",
    "    section2 = full_text[section2_start:section2_end].strip() if section2_start != -1 else \"N/A\"\n",
    "\n",
    "    # Search for Section 3\n",
    "    section3_start = section2_end\n",
    "    pattern4 = r\"4\\s[A-Z][a-zA-Z\\s]+\\n\"\n",
    "    match4 = re.search(pattern4, full_text)\n",
    "    section3end_search = match4.start() if match4 else -1\n",
    "    section3_end = section3end_search\n",
    "    section3 = full_text[section3_start:section3_end].strip() if section3_start != -1 else \"N/A\"\n",
    "    \n",
    "    # Extract the rest of the paper\n",
    "    rest_of_paper = full_text[section3_end:].strip() if section3_end != -1 else \"N/A\"\n",
    "\n",
    "    # Append the extracted information to the list\n",
    "    data.append([pdf_name, title, abstract, introduction, section2, section3, rest_of_paper])\n",
    "\n",
    "# Create a DataFrame\n",
    "columns = [\"PDF Name\", \"Title of Paper\", \"Abstract\", \"Introduction\", \"Section 2\", \"Section 3\", \"Rest of the Paper\"]\n",
    "df = pd.DataFrame(data, columns=columns)\n",
    "df = df.replace([\"N/A\", \"\"], \"nill\")\n",
    "# Display the dataset\n",
    "print(df)\n"
   ]
  },
  {
   "cell_type": "code",
   "execution_count": 5,
   "id": "d944c6b1",
   "metadata": {
    "execution": {
     "iopub.execute_input": "2025-01-11T15:00:40.737286Z",
     "iopub.status.busy": "2025-01-11T15:00:40.736940Z",
     "iopub.status.idle": "2025-01-11T15:00:40.757033Z",
     "shell.execute_reply": "2025-01-11T15:00:40.756249Z"
    },
    "papermill": {
     "duration": 0.031579,
     "end_time": "2025-01-11T15:00:40.758273",
     "exception": false,
     "start_time": "2025-01-11T15:00:40.726694",
     "status": "completed"
    },
    "tags": []
   },
   "outputs": [
    {
     "data": {
      "text/html": [
       "<div>\n",
       "<style scoped>\n",
       "    .dataframe tbody tr th:only-of-type {\n",
       "        vertical-align: middle;\n",
       "    }\n",
       "\n",
       "    .dataframe tbody tr th {\n",
       "        vertical-align: top;\n",
       "    }\n",
       "\n",
       "    .dataframe thead th {\n",
       "        text-align: right;\n",
       "    }\n",
       "</style>\n",
       "<table border=\"1\" class=\"dataframe\">\n",
       "  <thead>\n",
       "    <tr style=\"text-align: right;\">\n",
       "      <th></th>\n",
       "      <th>PDF Name</th>\n",
       "      <th>Title of Paper</th>\n",
       "      <th>Abstract</th>\n",
       "      <th>Introduction</th>\n",
       "      <th>Section 2</th>\n",
       "      <th>Section 3</th>\n",
       "      <th>Rest of the Paper</th>\n",
       "    </tr>\n",
       "  </thead>\n",
       "  <tbody>\n",
       "    <tr>\n",
       "      <th>130</th>\n",
       "      <td>P032.pdf</td>\n",
       "      <td>Exploring the Transcendental Nexus of Water and</td>\n",
       "      <td>Abstract\\nThe aquatic nuances of water travers...</td>\n",
       "      <td>1 Introduction\\nIn order to fully grasp the im...</td>\n",
       "      <td>2 Related Work\\nThe notion of water as a fluid...</td>\n",
       "      <td>3 Methodology\\nThe investigation of water nece...</td>\n",
       "      <td>4 Experiments\\nThe initialization of our resea...</td>\n",
       "    </tr>\n",
       "    <tr>\n",
       "      <th>131</th>\n",
       "      <td>P088.pdf</td>\n",
       "      <td>Analyzing Groups of Neurons in Neural Networks...</td>\n",
       "      <td>Abstract\\nThe concept of a \"modular\" structure...</td>\n",
       "      <td>1 Introduction\\nModularity, a principle where ...</td>\n",
       "      <td>2 Related Work\\nThe investigation of modularit...</td>\n",
       "      <td>3 Quantifying modularity by clustering similar...</td>\n",
       "      <td>4 Experiments\\n4.1 Setup and initial hypothese...</td>\n",
       "    </tr>\n",
       "    <tr>\n",
       "      <th>132</th>\n",
       "      <td>P111.pdf</td>\n",
       "      <td>Leveraging Deep Learning for Enhanced Bayesian...</td>\n",
       "      <td>Abstract\\nBayesian optimization (BO) is a wide...</td>\n",
       "      <td>1 Introduction\\nBayesian optimization (BO) is ...</td>\n",
       "      <td>2 Related Work\\nSeveral methods have been deve...</td>\n",
       "      <td>3 Methodology\\n3.1 Bayesian Optimization Prere...</td>\n",
       "      <td>4 Auxiliary Information\\nTypically, we assume ...</td>\n",
       "    </tr>\n",
       "    <tr>\n",
       "      <th>133</th>\n",
       "      <td>P039.pdf</td>\n",
       "      <td>RAG Optimization via Galactic Kitten Dynamics and</td>\n",
       "      <td>Abstract\\nInvestigating RAG necessitates scrut...</td>\n",
       "      <td>1 Introduction\\nRAG is a phenomenon that has b...</td>\n",
       "      <td>2 Related Work\\nThe inherent properties of gal...</td>\n",
       "      <td>3 Methodology\\nIn order to facilitate a compre...</td>\n",
       "      <td>4 Experiments\\nIn order to facilitate a compre...</td>\n",
       "    </tr>\n",
       "    <tr>\n",
       "      <th>134</th>\n",
       "      <td>P102.pdf</td>\n",
       "      <td>A Large-Scale Car Dataset for Fine-Grained</td>\n",
       "      <td>Abstract\\nThis paper aims to highlight vision ...</td>\n",
       "      <td>1 Introduction\\nCars represent a revolution in...</td>\n",
       "      <td>2 Related Work\\nMost previous car model resear...</td>\n",
       "      <td>3 Properties of CompCars\\nThe CompCars dataset...</td>\n",
       "      <td>4 Applications\\nIn this section, we study thre...</td>\n",
       "    </tr>\n",
       "    <tr>\n",
       "      <th>135</th>\n",
       "      <td>P007.pdf</td>\n",
       "      <td>Joint Syntacto-Discourse Parsing and the</td>\n",
       "      <td>Abstract\\nDiscourse parsing has long been trea...</td>\n",
       "      <td>1 Introduction\\nDistinguishing the semantic re...</td>\n",
       "      <td>nill</td>\n",
       "      <td>3 Recurrent Neural Models and Training\\nThe sc...</td>\n",
       "      <td>4 Experiments\\nWe use the treebank described i...</td>\n",
       "    </tr>\n",
       "    <tr>\n",
       "      <th>136</th>\n",
       "      <td>P085.pdf</td>\n",
       "      <td>Privacy Evaluation in Tabular Synthetic Data:</td>\n",
       "      <td>Abstract\\nThis paper examines the present meth...</td>\n",
       "      <td>1 Introduction and Relation to Prior Research\\...</td>\n",
       "      <td>2 Definitions and Notation\\nTo the best of our...</td>\n",
       "      <td>3 Synthetic Data Privacy Risks\\nThree signific...</td>\n",
       "      <td>4 Mathematical Privacy Properties\\n4.1 Differe...</td>\n",
       "    </tr>\n",
       "    <tr>\n",
       "      <th>137</th>\n",
       "      <td>P053.pdf</td>\n",
       "      <td>Microprocessor Architectures and their Interse...</td>\n",
       "      <td>Abstract\\nMicroprocessors have been profoundly...</td>\n",
       "      <td>1 Introduction\\nThe intersection of microproce...</td>\n",
       "      <td>2 Related Work\\nThe advent of microprocessor t...</td>\n",
       "      <td>3 Methodology\\nThe elucidation of microprocess...</td>\n",
       "      <td>4 Experiments\\nThe experimental design for thi...</td>\n",
       "    </tr>\n",
       "    <tr>\n",
       "      <th>138</th>\n",
       "      <td>P036.pdf</td>\n",
       "      <td>Profound Impact on Gravity on the Surface of a</td>\n",
       "      <td>Abstract\\nThe study of gravity necessitates a ...</td>\n",
       "      <td>1 Introduction\\nThe complexity of gravity and ...</td>\n",
       "      <td>2 Related Work\\nThe concept of gravity has bee...</td>\n",
       "      <td>3 Methodology\\nTo initiate our inquiry into th...</td>\n",
       "      <td>4 Experiments\\nThe notion of gravity was first...</td>\n",
       "    </tr>\n",
       "    <tr>\n",
       "      <th>139</th>\n",
       "      <td>P046.pdf</td>\n",
       "      <td>Symbiotic Adversarial Robustness for Graph Neural</td>\n",
       "      <td>Abstract\\nDeep learning models are known to be...</td>\n",
       "      <td>1 Introduction\\nGraph neural networks (GNNs) a...</td>\n",
       "      <td>2 Preliminaries\\nNotation. We denote a graph b...</td>\n",
       "      <td>3 Symbiotic Attacks\\nThe Symbiotic Objective. ...</td>\n",
       "      <td>4 Evaluation\\n4.1 Setup\\nWe compare the symbio...</td>\n",
       "    </tr>\n",
       "    <tr>\n",
       "      <th>140</th>\n",
       "      <td>R006.pdf</td>\n",
       "      <td>Detailed Action Identification in Baseball Game</td>\n",
       "      <td>Abstract\\nThis research introduces MLB-YouTube...</td>\n",
       "      <td>1 Introduction\\nAction recognition, a signific...</td>\n",
       "      <td>2 Related Work\\nThe field of activity recognit...</td>\n",
       "      <td>nill</td>\n",
       "      <td>4 Segmented Video Recognition Approach\\nWe inv...</td>\n",
       "    </tr>\n",
       "    <tr>\n",
       "      <th>141</th>\n",
       "      <td>P031.pdf</td>\n",
       "      <td>Explainable Identification of Hate Speech towards</td>\n",
       "      <td>Abstract\\nIslamophobic language on online plat...</td>\n",
       "      <td>1 Introduction\\nDetecting and eliminating hate...</td>\n",
       "      <td>2 Background\\nGraph Neural Networks (GNNs) are...</td>\n",
       "      <td>3 Methodology\\n3.1 Notations\\nLet a graph G = ...</td>\n",
       "      <td>4 Loss Function\\nCross Entropy loss is designe...</td>\n",
       "    </tr>\n",
       "    <tr>\n",
       "      <th>142</th>\n",
       "      <td>P062.pdf</td>\n",
       "      <td>Estimating Causal Effects Using a Cross-Moment</td>\n",
       "      <td>Abstract\\nThis paper explores the adaptation o...</td>\n",
       "      <td>1 Introduction\\nEquivariance, a crucial proper...</td>\n",
       "      <td>2 Related Work\\nThe adaptation of large pretra...</td>\n",
       "      <td>3 Methodology\\nThis section details the propos...</td>\n",
       "      <td>4 Experiments\\nThis section details the experi...</td>\n",
       "    </tr>\n",
       "    <tr>\n",
       "      <th>143</th>\n",
       "      <td>R001.pdf</td>\n",
       "      <td>Transdimensional Properties of Graphite in Rel...</td>\n",
       "      <td>Abstract\\nGraphite research has led to discove...</td>\n",
       "      <td>1 Introduction\\nThe fascinating realm of graph...</td>\n",
       "      <td>2 Related Work\\nThe discovery of graphite has ...</td>\n",
       "      <td>3 Methodology\\nThe pursuit of understanding gr...</td>\n",
       "      <td>4 Experiments\\nThe preparation of graphite sam...</td>\n",
       "    </tr>\n",
       "    <tr>\n",
       "      <th>144</th>\n",
       "      <td>P107.pdf</td>\n",
       "      <td>Neural Approaches to Real-Time Weather Forecas...</td>\n",
       "      <td>Abstract\\nThe pursuit of accurate and efficien...</td>\n",
       "      <td>1 Introduction\\nThe pursuit of accurate and ef...</td>\n",
       "      <td>2 Related Work\\nThe realm of real-time weather...</td>\n",
       "      <td>3 Methodology\\nThe development of neural appro...</td>\n",
       "      <td>4 Experiments\\nTo investigate the socioeconomi...</td>\n",
       "    </tr>\n",
       "    <tr>\n",
       "      <th>145</th>\n",
       "      <td>P050.pdf</td>\n",
       "      <td>Interpreting Recurrent and Attention-Based Neural</td>\n",
       "      <td>Abstract\\nDeep learning models have achieved r...</td>\n",
       "      <td>1 Introduction\\nDeep learning has achieved tre...</td>\n",
       "      <td>2 Task and Model\\nIn NLI, we are given two sen...</td>\n",
       "      <td>3 Visualization of Attention and Gating\\nwe ar...</td>\n",
       "      <td>4 Conclusion\\nWe propose new visualization and...</td>\n",
       "    </tr>\n",
       "    <tr>\n",
       "      <th>146</th>\n",
       "      <td>P134.pdf</td>\n",
       "      <td>Unraveling the Enigmatic Parallels Between DNA</td>\n",
       "      <td>Abstract\\nThe quintessential nature of DNA is ...</td>\n",
       "      <td>1 Introduction\\nThe intersection of quantum me...</td>\n",
       "      <td>2 Related Work\\nThe study of DNA has been infl...</td>\n",
       "      <td>3 Methodology\\nIn order to facilitate a deeper...</td>\n",
       "      <td>4 Experiments\\nThe experimental design involve...</td>\n",
       "    </tr>\n",
       "    <tr>\n",
       "      <th>147</th>\n",
       "      <td>P101.pdf</td>\n",
       "      <td>A Convolutional LSTM Network Approach for</td>\n",
       "      <td>Abstract\\nThis paper presents a methodology fo...</td>\n",
       "      <td>1 Introduction\\nThis paper addresses the criti...</td>\n",
       "      <td>2 Methodology\\n2.1 Dataset and Processing\\nA t...</td>\n",
       "      <td>3 Comparison Experiments\\nMultiple Instance Le...</td>\n",
       "      <td>nill</td>\n",
       "    </tr>\n",
       "    <tr>\n",
       "      <th>148</th>\n",
       "      <td>P073.pdf</td>\n",
       "      <td>Exploring Soil Dynamics through a Multidiscipl...</td>\n",
       "      <td>Abstract\\nThe ostensibly mundane realm of soil...</td>\n",
       "      <td>1 Introduction\\nThe fledgling discipline of so...</td>\n",
       "      <td>2 Related Work\\nThe concept of soil has been e...</td>\n",
       "      <td>3 Methodology\\nThe notion of flamenco dancing ...</td>\n",
       "      <td>4 Experiments\\nThe methodology employed in thi...</td>\n",
       "    </tr>\n",
       "    <tr>\n",
       "      <th>149</th>\n",
       "      <td>P096.pdf</td>\n",
       "      <td>Volcanic Eruptions in Relation to Quiche Recip...</td>\n",
       "      <td>Abstract\\nThe ephemeral nature of volcanic eru...</td>\n",
       "      <td>1 Introduction\\nThe ostensibly unrelated field...</td>\n",
       "      <td>2 Related Work\\nThe notion of volcanoes as sen...</td>\n",
       "      <td>3 Methodology\\nThe notion of fluorinated cake ...</td>\n",
       "      <td>4 Experiments\\nThe experimentation process com...</td>\n",
       "    </tr>\n",
       "  </tbody>\n",
       "</table>\n",
       "</div>"
      ],
      "text/plain": [
       "     PDF Name                                     Title of Paper  \\\n",
       "130  P032.pdf    Exploring the Transcendental Nexus of Water and   \n",
       "131  P088.pdf  Analyzing Groups of Neurons in Neural Networks...   \n",
       "132  P111.pdf  Leveraging Deep Learning for Enhanced Bayesian...   \n",
       "133  P039.pdf  RAG Optimization via Galactic Kitten Dynamics and   \n",
       "134  P102.pdf         A Large-Scale Car Dataset for Fine-Grained   \n",
       "135  P007.pdf           Joint Syntacto-Discourse Parsing and the   \n",
       "136  P085.pdf      Privacy Evaluation in Tabular Synthetic Data:   \n",
       "137  P053.pdf  Microprocessor Architectures and their Interse...   \n",
       "138  P036.pdf     Profound Impact on Gravity on the Surface of a   \n",
       "139  P046.pdf  Symbiotic Adversarial Robustness for Graph Neural   \n",
       "140  R006.pdf    Detailed Action Identification in Baseball Game   \n",
       "141  P031.pdf  Explainable Identification of Hate Speech towards   \n",
       "142  P062.pdf     Estimating Causal Effects Using a Cross-Moment   \n",
       "143  R001.pdf  Transdimensional Properties of Graphite in Rel...   \n",
       "144  P107.pdf  Neural Approaches to Real-Time Weather Forecas...   \n",
       "145  P050.pdf  Interpreting Recurrent and Attention-Based Neural   \n",
       "146  P134.pdf     Unraveling the Enigmatic Parallels Between DNA   \n",
       "147  P101.pdf          A Convolutional LSTM Network Approach for   \n",
       "148  P073.pdf  Exploring Soil Dynamics through a Multidiscipl...   \n",
       "149  P096.pdf  Volcanic Eruptions in Relation to Quiche Recip...   \n",
       "\n",
       "                                              Abstract  \\\n",
       "130  Abstract\\nThe aquatic nuances of water travers...   \n",
       "131  Abstract\\nThe concept of a \"modular\" structure...   \n",
       "132  Abstract\\nBayesian optimization (BO) is a wide...   \n",
       "133  Abstract\\nInvestigating RAG necessitates scrut...   \n",
       "134  Abstract\\nThis paper aims to highlight vision ...   \n",
       "135  Abstract\\nDiscourse parsing has long been trea...   \n",
       "136  Abstract\\nThis paper examines the present meth...   \n",
       "137  Abstract\\nMicroprocessors have been profoundly...   \n",
       "138  Abstract\\nThe study of gravity necessitates a ...   \n",
       "139  Abstract\\nDeep learning models are known to be...   \n",
       "140  Abstract\\nThis research introduces MLB-YouTube...   \n",
       "141  Abstract\\nIslamophobic language on online plat...   \n",
       "142  Abstract\\nThis paper explores the adaptation o...   \n",
       "143  Abstract\\nGraphite research has led to discove...   \n",
       "144  Abstract\\nThe pursuit of accurate and efficien...   \n",
       "145  Abstract\\nDeep learning models have achieved r...   \n",
       "146  Abstract\\nThe quintessential nature of DNA is ...   \n",
       "147  Abstract\\nThis paper presents a methodology fo...   \n",
       "148  Abstract\\nThe ostensibly mundane realm of soil...   \n",
       "149  Abstract\\nThe ephemeral nature of volcanic eru...   \n",
       "\n",
       "                                          Introduction  \\\n",
       "130  1 Introduction\\nIn order to fully grasp the im...   \n",
       "131  1 Introduction\\nModularity, a principle where ...   \n",
       "132  1 Introduction\\nBayesian optimization (BO) is ...   \n",
       "133  1 Introduction\\nRAG is a phenomenon that has b...   \n",
       "134  1 Introduction\\nCars represent a revolution in...   \n",
       "135  1 Introduction\\nDistinguishing the semantic re...   \n",
       "136  1 Introduction and Relation to Prior Research\\...   \n",
       "137  1 Introduction\\nThe intersection of microproce...   \n",
       "138  1 Introduction\\nThe complexity of gravity and ...   \n",
       "139  1 Introduction\\nGraph neural networks (GNNs) a...   \n",
       "140  1 Introduction\\nAction recognition, a signific...   \n",
       "141  1 Introduction\\nDetecting and eliminating hate...   \n",
       "142  1 Introduction\\nEquivariance, a crucial proper...   \n",
       "143  1 Introduction\\nThe fascinating realm of graph...   \n",
       "144  1 Introduction\\nThe pursuit of accurate and ef...   \n",
       "145  1 Introduction\\nDeep learning has achieved tre...   \n",
       "146  1 Introduction\\nThe intersection of quantum me...   \n",
       "147  1 Introduction\\nThis paper addresses the criti...   \n",
       "148  1 Introduction\\nThe fledgling discipline of so...   \n",
       "149  1 Introduction\\nThe ostensibly unrelated field...   \n",
       "\n",
       "                                             Section 2  \\\n",
       "130  2 Related Work\\nThe notion of water as a fluid...   \n",
       "131  2 Related Work\\nThe investigation of modularit...   \n",
       "132  2 Related Work\\nSeveral methods have been deve...   \n",
       "133  2 Related Work\\nThe inherent properties of gal...   \n",
       "134  2 Related Work\\nMost previous car model resear...   \n",
       "135                                               nill   \n",
       "136  2 Definitions and Notation\\nTo the best of our...   \n",
       "137  2 Related Work\\nThe advent of microprocessor t...   \n",
       "138  2 Related Work\\nThe concept of gravity has bee...   \n",
       "139  2 Preliminaries\\nNotation. We denote a graph b...   \n",
       "140  2 Related Work\\nThe field of activity recognit...   \n",
       "141  2 Background\\nGraph Neural Networks (GNNs) are...   \n",
       "142  2 Related Work\\nThe adaptation of large pretra...   \n",
       "143  2 Related Work\\nThe discovery of graphite has ...   \n",
       "144  2 Related Work\\nThe realm of real-time weather...   \n",
       "145  2 Task and Model\\nIn NLI, we are given two sen...   \n",
       "146  2 Related Work\\nThe study of DNA has been infl...   \n",
       "147  2 Methodology\\n2.1 Dataset and Processing\\nA t...   \n",
       "148  2 Related Work\\nThe concept of soil has been e...   \n",
       "149  2 Related Work\\nThe notion of volcanoes as sen...   \n",
       "\n",
       "                                             Section 3  \\\n",
       "130  3 Methodology\\nThe investigation of water nece...   \n",
       "131  3 Quantifying modularity by clustering similar...   \n",
       "132  3 Methodology\\n3.1 Bayesian Optimization Prere...   \n",
       "133  3 Methodology\\nIn order to facilitate a compre...   \n",
       "134  3 Properties of CompCars\\nThe CompCars dataset...   \n",
       "135  3 Recurrent Neural Models and Training\\nThe sc...   \n",
       "136  3 Synthetic Data Privacy Risks\\nThree signific...   \n",
       "137  3 Methodology\\nThe elucidation of microprocess...   \n",
       "138  3 Methodology\\nTo initiate our inquiry into th...   \n",
       "139  3 Symbiotic Attacks\\nThe Symbiotic Objective. ...   \n",
       "140                                               nill   \n",
       "141  3 Methodology\\n3.1 Notations\\nLet a graph G = ...   \n",
       "142  3 Methodology\\nThis section details the propos...   \n",
       "143  3 Methodology\\nThe pursuit of understanding gr...   \n",
       "144  3 Methodology\\nThe development of neural appro...   \n",
       "145  3 Visualization of Attention and Gating\\nwe ar...   \n",
       "146  3 Methodology\\nIn order to facilitate a deeper...   \n",
       "147  3 Comparison Experiments\\nMultiple Instance Le...   \n",
       "148  3 Methodology\\nThe notion of flamenco dancing ...   \n",
       "149  3 Methodology\\nThe notion of fluorinated cake ...   \n",
       "\n",
       "                                     Rest of the Paper  \n",
       "130  4 Experiments\\nThe initialization of our resea...  \n",
       "131  4 Experiments\\n4.1 Setup and initial hypothese...  \n",
       "132  4 Auxiliary Information\\nTypically, we assume ...  \n",
       "133  4 Experiments\\nIn order to facilitate a compre...  \n",
       "134  4 Applications\\nIn this section, we study thre...  \n",
       "135  4 Experiments\\nWe use the treebank described i...  \n",
       "136  4 Mathematical Privacy Properties\\n4.1 Differe...  \n",
       "137  4 Experiments\\nThe experimental design for thi...  \n",
       "138  4 Experiments\\nThe notion of gravity was first...  \n",
       "139  4 Evaluation\\n4.1 Setup\\nWe compare the symbio...  \n",
       "140  4 Segmented Video Recognition Approach\\nWe inv...  \n",
       "141  4 Loss Function\\nCross Entropy loss is designe...  \n",
       "142  4 Experiments\\nThis section details the experi...  \n",
       "143  4 Experiments\\nThe preparation of graphite sam...  \n",
       "144  4 Experiments\\nTo investigate the socioeconomi...  \n",
       "145  4 Conclusion\\nWe propose new visualization and...  \n",
       "146  4 Experiments\\nThe experimental design involve...  \n",
       "147                                               nill  \n",
       "148  4 Experiments\\nThe methodology employed in thi...  \n",
       "149  4 Experiments\\nThe experimentation process com...  "
      ]
     },
     "execution_count": 5,
     "metadata": {},
     "output_type": "execute_result"
    }
   ],
   "source": [
    "df.tail(20)"
   ]
  },
  {
   "cell_type": "raw",
   "id": "ef17e4ce",
   "metadata": {
    "papermill": {
     "duration": 0.009263,
     "end_time": "2025-01-11T15:00:40.777151",
     "exception": false,
     "start_time": "2025-01-11T15:00:40.767888",
     "status": "completed"
    },
    "tags": []
   },
   "source": [
    "print"
   ]
  },
  {
   "cell_type": "code",
   "execution_count": 6,
   "id": "2e6e5d6c",
   "metadata": {
    "execution": {
     "iopub.execute_input": "2025-01-11T15:00:40.796250Z",
     "iopub.status.busy": "2025-01-11T15:00:40.796006Z",
     "iopub.status.idle": "2025-01-11T15:00:40.814105Z",
     "shell.execute_reply": "2025-01-11T15:00:40.813130Z"
    },
    "papermill": {
     "duration": 0.029042,
     "end_time": "2025-01-11T15:00:40.815496",
     "exception": false,
     "start_time": "2025-01-11T15:00:40.786454",
     "status": "completed"
    },
    "tags": []
   },
   "outputs": [
    {
     "name": "stdout",
     "output_type": "stream",
     "text": [
      "<class 'pandas.core.frame.DataFrame'>\n",
      "RangeIndex: 150 entries, 0 to 149\n",
      "Data columns (total 7 columns):\n",
      " #   Column             Non-Null Count  Dtype \n",
      "---  ------             --------------  ----- \n",
      " 0   PDF Name           150 non-null    object\n",
      " 1   Title of Paper     150 non-null    object\n",
      " 2   Abstract           150 non-null    object\n",
      " 3   Introduction       150 non-null    object\n",
      " 4   Section 2          150 non-null    object\n",
      " 5   Section 3          150 non-null    object\n",
      " 6   Rest of the Paper  150 non-null    object\n",
      "dtypes: object(7)\n",
      "memory usage: 8.3+ KB\n"
     ]
    }
   ],
   "source": [
    "df.info()"
   ]
  },
  {
   "cell_type": "code",
   "execution_count": 7,
   "id": "8fd9172e",
   "metadata": {
    "execution": {
     "iopub.execute_input": "2025-01-11T15:00:40.834655Z",
     "iopub.status.busy": "2025-01-11T15:00:40.834427Z",
     "iopub.status.idle": "2025-01-11T15:00:40.839390Z",
     "shell.execute_reply": "2025-01-11T15:00:40.838480Z"
    },
    "papermill": {
     "duration": 0.016059,
     "end_time": "2025-01-11T15:00:40.840574",
     "exception": false,
     "start_time": "2025-01-11T15:00:40.824515",
     "status": "completed"
    },
    "tags": []
   },
   "outputs": [
    {
     "name": "stdout",
     "output_type": "stream",
     "text": [
      "0      1 Introduction\\nDeep networks, constructed wit...\n",
      "1      1 Introduction\\nThe realm of Graph Neural Netw...\n",
      "2      1 Introduction\\nThe notion of entropy, a conce...\n",
      "3      1 Introduction\\nThis paper addresses the criti...\n",
      "4      1 Introduction\\nThe prediction of 3D protein s...\n",
      "                             ...                        \n",
      "145    1 Introduction\\nDeep learning has achieved tre...\n",
      "146    1 Introduction\\nThe intersection of quantum me...\n",
      "147    1 Introduction\\nThis paper addresses the criti...\n",
      "148    1 Introduction\\nThe fledgling discipline of so...\n",
      "149    1 Introduction\\nThe ostensibly unrelated field...\n",
      "Name: Introduction, Length: 150, dtype: object\n"
     ]
    }
   ],
   "source": [
    "print(df[\"Introduction\"])"
   ]
  },
  {
   "cell_type": "code",
   "execution_count": 8,
   "id": "77e5f3bc",
   "metadata": {
    "execution": {
     "iopub.execute_input": "2025-01-11T15:00:40.860138Z",
     "iopub.status.busy": "2025-01-11T15:00:40.859902Z",
     "iopub.status.idle": "2025-01-11T15:00:40.912178Z",
     "shell.execute_reply": "2025-01-11T15:00:40.911616Z"
    },
    "papermill": {
     "duration": 0.063523,
     "end_time": "2025-01-11T15:00:40.913346",
     "exception": false,
     "start_time": "2025-01-11T15:00:40.849823",
     "status": "completed"
    },
    "tags": []
   },
   "outputs": [],
   "source": [
    "import pandas as pd\n",
    "\n",
    "# Function to equally divide text into two parts\n",
    "def equally_split_rest(text):\n",
    "    if not isinstance(text, str) or not text.strip():  # Check for valid text\n",
    "        return \"nil\", \"nil\"  # Return \"nil\" for both parts if text is invalid\n",
    "\n",
    "    words = text.split()  # Split text into words\n",
    "    half_length = len(words) // 2  # Find half the length of words\n",
    "    \n",
    "    part1 = \" \".join(words[:half_length])  # First half\n",
    "    part2 = \" \".join(words[half_length:])  # Second half\n",
    "\n",
    "    return part1, part2\n",
    "\n",
    "df[[\"Rest Part 1\", \"Rest Part 2\"]] = df[\"Rest of the Paper\"].apply(equally_split_rest).apply(pd.Series)"
   ]
  },
  {
   "cell_type": "markdown",
   "id": "b565d244",
   "metadata": {
    "papermill": {
     "duration": 0.009082,
     "end_time": "2025-01-11T15:00:40.931844",
     "exception": false,
     "start_time": "2025-01-11T15:00:40.922762",
     "status": "completed"
    },
    "tags": []
   },
   "source": [
    "<h1>Making the dataframes for both classified and non-classified</h1>"
   ]
  },
  {
   "cell_type": "code",
   "execution_count": 9,
   "id": "bbde0805",
   "metadata": {
    "execution": {
     "iopub.execute_input": "2025-01-11T15:00:40.951811Z",
     "iopub.status.busy": "2025-01-11T15:00:40.951575Z",
     "iopub.status.idle": "2025-01-11T15:00:40.955532Z",
     "shell.execute_reply": "2025-01-11T15:00:40.954774Z"
    },
    "papermill": {
     "duration": 0.015846,
     "end_time": "2025-01-11T15:00:40.956993",
     "exception": false,
     "start_time": "2025-01-11T15:00:40.941147",
     "status": "completed"
    },
    "tags": []
   },
   "outputs": [],
   "source": [
    "df['Rest Part 1'] = df['Rest Part 1'].replace('', 'nill')"
   ]
  },
  {
   "cell_type": "code",
   "execution_count": 10,
   "id": "4e6560b8",
   "metadata": {
    "execution": {
     "iopub.execute_input": "2025-01-11T15:00:40.978844Z",
     "iopub.status.busy": "2025-01-11T15:00:40.978601Z",
     "iopub.status.idle": "2025-01-11T15:00:40.983864Z",
     "shell.execute_reply": "2025-01-11T15:00:40.983137Z"
    },
    "papermill": {
     "duration": 0.017333,
     "end_time": "2025-01-11T15:00:40.985390",
     "exception": false,
     "start_time": "2025-01-11T15:00:40.968057",
     "status": "completed"
    },
    "tags": []
   },
   "outputs": [],
   "source": [
    "df_classified = df[df[\"PDF Name\"].str.startswith(\"R\")]\n",
    "df_nonClassified=df[df[\"PDF Name\"].str.startswith(\"P\")]"
   ]
  },
  {
   "cell_type": "code",
   "execution_count": 11,
   "id": "f85095d5",
   "metadata": {
    "execution": {
     "iopub.execute_input": "2025-01-11T15:00:41.006840Z",
     "iopub.status.busy": "2025-01-11T15:00:41.006600Z",
     "iopub.status.idle": "2025-01-11T15:00:41.011283Z",
     "shell.execute_reply": "2025-01-11T15:00:41.010409Z"
    },
    "papermill": {
     "duration": 0.016366,
     "end_time": "2025-01-11T15:00:41.012653",
     "exception": false,
     "start_time": "2025-01-11T15:00:40.996287",
     "status": "completed"
    },
    "tags": []
   },
   "outputs": [
    {
     "data": {
      "text/plain": [
       "(15, 9)"
      ]
     },
     "execution_count": 11,
     "metadata": {},
     "output_type": "execute_result"
    }
   ],
   "source": [
    "df_classified.shape"
   ]
  },
  {
   "cell_type": "code",
   "execution_count": 12,
   "id": "de6ff9a6",
   "metadata": {
    "execution": {
     "iopub.execute_input": "2025-01-11T15:00:41.032971Z",
     "iopub.status.busy": "2025-01-11T15:00:41.032769Z",
     "iopub.status.idle": "2025-01-11T15:00:41.036841Z",
     "shell.execute_reply": "2025-01-11T15:00:41.036167Z"
    },
    "papermill": {
     "duration": 0.015609,
     "end_time": "2025-01-11T15:00:41.038012",
     "exception": false,
     "start_time": "2025-01-11T15:00:41.022403",
     "status": "completed"
    },
    "tags": []
   },
   "outputs": [
    {
     "data": {
      "text/plain": [
       "(135, 9)"
      ]
     },
     "execution_count": 12,
     "metadata": {},
     "output_type": "execute_result"
    }
   ],
   "source": [
    "df_nonClassified.shape"
   ]
  },
  {
   "cell_type": "markdown",
   "id": "90094605",
   "metadata": {
    "papermill": {
     "duration": 0.009232,
     "end_time": "2025-01-11T15:00:41.057032",
     "exception": false,
     "start_time": "2025-01-11T15:00:41.047800",
     "status": "completed"
    },
    "tags": []
   },
   "source": [
    "<h2>Labeling the non-publishable or publishable</h2>"
   ]
  },
  {
   "cell_type": "code",
   "execution_count": 13,
   "id": "330629f3",
   "metadata": {
    "execution": {
     "iopub.execute_input": "2025-01-11T15:00:41.076665Z",
     "iopub.status.busy": "2025-01-11T15:00:41.076442Z",
     "iopub.status.idle": "2025-01-11T15:00:41.081525Z",
     "shell.execute_reply": "2025-01-11T15:00:41.080632Z"
    },
    "papermill": {
     "duration": 0.016855,
     "end_time": "2025-01-11T15:00:41.083231",
     "exception": false,
     "start_time": "2025-01-11T15:00:41.066376",
     "status": "completed"
    },
    "tags": []
   },
   "outputs": [
    {
     "name": "stderr",
     "output_type": "stream",
     "text": [
      "<ipython-input-13-6afca9738da7>:2: SettingWithCopyWarning: \n",
      "A value is trying to be set on a copy of a slice from a DataFrame.\n",
      "Try using .loc[row_indexer,col_indexer] = value instead\n",
      "\n",
      "See the caveats in the documentation: https://pandas.pydata.org/pandas-docs/stable/user_guide/indexing.html#returning-a-view-versus-a-copy\n",
      "  df_classified.loc[:, 'Label'] = df_classified['PDF Name'].apply(lambda x: 0 if int(x[1:4]) <= 5 else 1)\n"
     ]
    }
   ],
   "source": [
    "# Explicitly set the 'Label' column using .loc[]\n",
    "df_classified.loc[:, 'Label'] = df_classified['PDF Name'].apply(lambda x: 0 if int(x[1:4]) <= 5 else 1)"
   ]
  },
  {
   "cell_type": "code",
   "execution_count": null,
   "id": "f985119c",
   "metadata": {
    "papermill": {
     "duration": 0.009385,
     "end_time": "2025-01-11T15:00:41.102272",
     "exception": false,
     "start_time": "2025-01-11T15:00:41.092887",
     "status": "completed"
    },
    "tags": []
   },
   "outputs": [],
   "source": []
  },
  {
   "cell_type": "code",
   "execution_count": 14,
   "id": "6ff12f02",
   "metadata": {
    "execution": {
     "iopub.execute_input": "2025-01-11T15:00:41.122011Z",
     "iopub.status.busy": "2025-01-11T15:00:41.121806Z",
     "iopub.status.idle": "2025-01-11T15:00:41.140198Z",
     "shell.execute_reply": "2025-01-11T15:00:41.139323Z"
    },
    "papermill": {
     "duration": 0.029854,
     "end_time": "2025-01-11T15:00:41.141624",
     "exception": false,
     "start_time": "2025-01-11T15:00:41.111770",
     "status": "completed"
    },
    "tags": []
   },
   "outputs": [
    {
     "data": {
      "text/html": [
       "<div>\n",
       "<style scoped>\n",
       "    .dataframe tbody tr th:only-of-type {\n",
       "        vertical-align: middle;\n",
       "    }\n",
       "\n",
       "    .dataframe tbody tr th {\n",
       "        vertical-align: top;\n",
       "    }\n",
       "\n",
       "    .dataframe thead th {\n",
       "        text-align: right;\n",
       "    }\n",
       "</style>\n",
       "<table border=\"1\" class=\"dataframe\">\n",
       "  <thead>\n",
       "    <tr style=\"text-align: right;\">\n",
       "      <th></th>\n",
       "      <th>PDF Name</th>\n",
       "      <th>Title of Paper</th>\n",
       "      <th>Abstract</th>\n",
       "      <th>Introduction</th>\n",
       "      <th>Section 2</th>\n",
       "      <th>Section 3</th>\n",
       "      <th>Rest of the Paper</th>\n",
       "      <th>Rest Part 1</th>\n",
       "      <th>Rest Part 2</th>\n",
       "      <th>Label</th>\n",
       "    </tr>\n",
       "  </thead>\n",
       "  <tbody>\n",
       "    <tr>\n",
       "      <th>17</th>\n",
       "      <td>R003.pdf</td>\n",
       "      <td>Deciphering the Enigmatic Properties of Metals</td>\n",
       "      <td>Abstract\\nMetamorphosis of galvanic oscillatio...</td>\n",
       "      <td>1 Introduction\\nThe dialectical nuances of met...</td>\n",
       "      <td>2 Related Work\\nThe notion of metals has been ...</td>\n",
       "      <td>3 Methodology\\nThe investigation of metals nec...</td>\n",
       "      <td>4 Experiments\\nThe methodologies employed in t...</td>\n",
       "      <td>4 Experiments The methodologies employed in th...</td>\n",
       "      <td>has also explored the realm of metal-based art...</td>\n",
       "      <td>0</td>\n",
       "    </tr>\n",
       "    <tr>\n",
       "      <th>19</th>\n",
       "      <td>R015.pdf</td>\n",
       "      <td>Examining the Convergence of Denoising Diffusi...</td>\n",
       "      <td>Abstract\\nDeep generative models, particularly...</td>\n",
       "      <td>1 Introduction\\nDiffusion models, alongside ge...</td>\n",
       "      <td>2 Our contributions\\nIn this study, strong ass...</td>\n",
       "      <td>3 Our Approach\\nThe goal is to upper-bound the...</td>\n",
       "      <td>nill</td>\n",
       "      <td>nill</td>\n",
       "      <td>nill</td>\n",
       "      <td>1</td>\n",
       "    </tr>\n",
       "    <tr>\n",
       "      <th>22</th>\n",
       "      <td>R005.pdf</td>\n",
       "      <td>Analyzing Real-Time Group Coordination in</td>\n",
       "      <td>Abstract\\nThe convergence of augmented reality...</td>\n",
       "      <td>1 Introduction\\nThe realm of coordinated dance...</td>\n",
       "      <td>2 Related Work\\nThe intersection of augmented ...</td>\n",
       "      <td>3 Methodology\\nTo investigate the relationship...</td>\n",
       "      <td>4 Experiments\\nTo conduct a comprehensive eval...</td>\n",
       "      <td>4 Experiments To conduct a comprehensive evalu...</td>\n",
       "      <td>the development of more sophisticated AR syste...</td>\n",
       "      <td>0</td>\n",
       "    </tr>\n",
       "    <tr>\n",
       "      <th>43</th>\n",
       "      <td>R010.pdf</td>\n",
       "      <td>Detecting Medication Usage in Parkinson’s Dise...</td>\n",
       "      <td>Abstract\\nParkinson’s disease (PD) is a progre...</td>\n",
       "      <td>1 Introduction\\nParkinson’s disease (PD) is a ...</td>\n",
       "      <td>2 Related Work\\nExtensive research has utilize...</td>\n",
       "      <td>3 Cohort and Dataset\\n**Dataset:** This datase...</td>\n",
       "      <td>4 Methodologies and Framework\\nWe introduce Mu...</td>\n",
       "      <td>4 Methodologies and Framework We introduce Mul...</td>\n",
       "      <td>as in 4m-HC and 4m-PD validations, having extr...</td>\n",
       "      <td>1</td>\n",
       "    </tr>\n",
       "    <tr>\n",
       "      <th>56</th>\n",
       "      <td>R012.pdf</td>\n",
       "      <td>Safe Predictors for Input-Output Specification</td>\n",
       "      <td>Abstract\\nThis paper presents an approach for ...</td>\n",
       "      <td>1 Introduction\\nThe increasing adoption of mac...</td>\n",
       "      <td>2 Method\\nConsidering two normed vector spaces...</td>\n",
       "      <td>3 Application to Aircraft Collision Avoidance\\...</td>\n",
       "      <td>4 Discussion and Future Work\\nWe propose an ap...</td>\n",
       "      <td>4 Discussion and Future Work We propose an app...</td>\n",
       "      <td>scores. The data is split using an 80/20 train...</td>\n",
       "      <td>1</td>\n",
       "    </tr>\n",
       "    <tr>\n",
       "      <th>60</th>\n",
       "      <td>R002.pdf</td>\n",
       "      <td>Synergistic Convergence of Photosynthetic Path...</td>\n",
       "      <td>Abstract\\nThe perpetual oscillations of quantu...</td>\n",
       "      <td>1 Introduction\\nThe deployment of novel spectr...</td>\n",
       "      <td>2 Related Work\\nThe process of photosynthesis ...</td>\n",
       "      <td>3 Methodology\\nThe intricacies of photosynthet...</td>\n",
       "      <td>4 Experiments\\nThe controlled environment of t...</td>\n",
       "      <td>4 Experiments The controlled environment of th...</td>\n",
       "      <td>tons of Jell-O from the laboratory cafeteria. ...</td>\n",
       "      <td>0</td>\n",
       "    </tr>\n",
       "    <tr>\n",
       "      <th>83</th>\n",
       "      <td>R008.pdf</td>\n",
       "      <td>Advanced techniques for through and contextually</td>\n",
       "      <td>Abstract\\nThis study examines the effectivenes...</td>\n",
       "      <td>1 Introduction\\nNoun-noun compound interpretat...</td>\n",
       "      <td>2 Related Work\\nApproaches to interpreting nou...</td>\n",
       "      <td>3 Task Definition and Dataset\\nThe objective o...</td>\n",
       "      <td>nill</td>\n",
       "      <td>nill</td>\n",
       "      <td>nill</td>\n",
       "      <td>1</td>\n",
       "    </tr>\n",
       "    <tr>\n",
       "      <th>86</th>\n",
       "      <td>R004.pdf</td>\n",
       "      <td>AI-Driven Personalization in Online Education</td>\n",
       "      <td>Abstract\\nAI-driven personalization is revolut...</td>\n",
       "      <td>1 Introduction\\nThe advent of online education...</td>\n",
       "      <td>2 Related Work\\nAI-driven personalization in o...</td>\n",
       "      <td>3 Methodology\\nTo develop an AI-driven persona...</td>\n",
       "      <td>4 Experiments\\nTo investigate the efficacy of ...</td>\n",
       "      <td>4 Experiments To investigate the efficacy of e...</td>\n",
       "      <td>This phenomenon was observed when the packagin...</td>\n",
       "      <td>0</td>\n",
       "    </tr>\n",
       "    <tr>\n",
       "      <th>91</th>\n",
       "      <td>R011.pdf</td>\n",
       "      <td>Addressing Popularity Bias with Popularity-Con...</td>\n",
       "      <td>Abstract\\nCollaborative Filtering (CF) often e...</td>\n",
       "      <td>1 Introduction\\nContemporary recommender syste...</td>\n",
       "      <td>2 Methodology\\nTo overcome the current difficu...</td>\n",
       "      <td>3 Model Optimization\\nTo reduce popularity bia...</td>\n",
       "      <td>4 Debias Ability\\nTo further verify the effect...</td>\n",
       "      <td>4 Debias Ability To further verify the effecti...</td>\n",
       "      <td>preliminary results indicate that both extreme...</td>\n",
       "      <td>1</td>\n",
       "    </tr>\n",
       "    <tr>\n",
       "      <th>99</th>\n",
       "      <td>R007.pdf</td>\n",
       "      <td>Advancements in 3D Food Modeling: A Review of the</td>\n",
       "      <td>Abstract\\nThe growing focus on leveraging comp...</td>\n",
       "      <td>1 Introduction\\nThe convergence of computer vi...</td>\n",
       "      <td>2 Related Work\\nEstimating food portions is a ...</td>\n",
       "      <td>3 Datasets and Evaluation Pipeline\\n3.1 Datase...</td>\n",
       "      <td>nill</td>\n",
       "      <td>nill</td>\n",
       "      <td>nill</td>\n",
       "      <td>1</td>\n",
       "    </tr>\n",
       "    <tr>\n",
       "      <th>121</th>\n",
       "      <td>R009.pdf</td>\n",
       "      <td>The Importance of Written Explanations in</td>\n",
       "      <td>Abstract\\nThis study demonstrates that incorpo...</td>\n",
       "      <td>1 Introduction\\nThe concept of the \"wisdom of ...</td>\n",
       "      <td>2 Related Work\\nThe language employed by indiv...</td>\n",
       "      <td>3 Dataset\\nThe research utilizes data from the...</td>\n",
       "      <td>4 Experiments and Results\\nExperiments are con...</td>\n",
       "      <td>4 Experiments and Results Experiments are cond...</td>\n",
       "      <td>network configurations, except for the one usi...</td>\n",
       "      <td>1</td>\n",
       "    </tr>\n",
       "    <tr>\n",
       "      <th>124</th>\n",
       "      <td>R013.pdf</td>\n",
       "      <td>Generalization in ReLU Networks via Restricted</td>\n",
       "      <td>Abstract\\nRegression tasks, while aiming to mo...</td>\n",
       "      <td>1 Introduction\\nA fundamental requirement of a...</td>\n",
       "      <td>2 Notation and Assumptions\\nIn this section, w...</td>\n",
       "      <td>3 Concentration of the Empirical Norm\\nSupervi...</td>\n",
       "      <td>4 Uniform Generalization of Sublevel Sets of t...</td>\n",
       "      <td>4 Uniform Generalization of Sublevel Sets of t...</td>\n",
       "      <td>capture the Sub-Gaussian structure of a proces...</td>\n",
       "      <td>1</td>\n",
       "    </tr>\n",
       "    <tr>\n",
       "      <th>128</th>\n",
       "      <td>R014.pdf</td>\n",
       "      <td>Addressing Min-Max Challenges in Nonconvex-Non...</td>\n",
       "      <td>Abstract\\nThis research examines a specific ca...</td>\n",
       "      <td>1 Introduction\\nThe recent advancements in mac...</td>\n",
       "      <td>2 Related literature\\nWe will concentrate on t...</td>\n",
       "      <td>3 OGDA for problems with weak Minty solutions\\...</td>\n",
       "      <td>nill</td>\n",
       "      <td>nill</td>\n",
       "      <td>nill</td>\n",
       "      <td>1</td>\n",
       "    </tr>\n",
       "    <tr>\n",
       "      <th>140</th>\n",
       "      <td>R006.pdf</td>\n",
       "      <td>Detailed Action Identification in Baseball Game</td>\n",
       "      <td>Abstract\\nThis research introduces MLB-YouTube...</td>\n",
       "      <td>1 Introduction\\nAction recognition, a signific...</td>\n",
       "      <td>2 Related Work\\nThe field of activity recognit...</td>\n",
       "      <td>nill</td>\n",
       "      <td>4 Segmented Video Recognition Approach\\nWe inv...</td>\n",
       "      <td>4 Segmented Video Recognition Approach We inve...</td>\n",
       "      <td>pitch and non-pitch frames. The results, detai...</td>\n",
       "      <td>1</td>\n",
       "    </tr>\n",
       "    <tr>\n",
       "      <th>143</th>\n",
       "      <td>R001.pdf</td>\n",
       "      <td>Transdimensional Properties of Graphite in Rel...</td>\n",
       "      <td>Abstract\\nGraphite research has led to discove...</td>\n",
       "      <td>1 Introduction\\nThe fascinating realm of graph...</td>\n",
       "      <td>2 Related Work\\nThe discovery of graphite has ...</td>\n",
       "      <td>3 Methodology\\nThe pursuit of understanding gr...</td>\n",
       "      <td>4 Experiments\\nThe preparation of graphite sam...</td>\n",
       "      <td>4 Experiments The preparation of graphite samp...</td>\n",
       "      <td>not unlike the process of learning and memory ...</td>\n",
       "      <td>0</td>\n",
       "    </tr>\n",
       "  </tbody>\n",
       "</table>\n",
       "</div>"
      ],
      "text/plain": [
       "     PDF Name                                     Title of Paper  \\\n",
       "17   R003.pdf     Deciphering the Enigmatic Properties of Metals   \n",
       "19   R015.pdf  Examining the Convergence of Denoising Diffusi...   \n",
       "22   R005.pdf          Analyzing Real-Time Group Coordination in   \n",
       "43   R010.pdf  Detecting Medication Usage in Parkinson’s Dise...   \n",
       "56   R012.pdf     Safe Predictors for Input-Output Specification   \n",
       "60   R002.pdf  Synergistic Convergence of Photosynthetic Path...   \n",
       "83   R008.pdf   Advanced techniques for through and contextually   \n",
       "86   R004.pdf      AI-Driven Personalization in Online Education   \n",
       "91   R011.pdf  Addressing Popularity Bias with Popularity-Con...   \n",
       "99   R007.pdf  Advancements in 3D Food Modeling: A Review of the   \n",
       "121  R009.pdf          The Importance of Written Explanations in   \n",
       "124  R013.pdf     Generalization in ReLU Networks via Restricted   \n",
       "128  R014.pdf  Addressing Min-Max Challenges in Nonconvex-Non...   \n",
       "140  R006.pdf    Detailed Action Identification in Baseball Game   \n",
       "143  R001.pdf  Transdimensional Properties of Graphite in Rel...   \n",
       "\n",
       "                                              Abstract  \\\n",
       "17   Abstract\\nMetamorphosis of galvanic oscillatio...   \n",
       "19   Abstract\\nDeep generative models, particularly...   \n",
       "22   Abstract\\nThe convergence of augmented reality...   \n",
       "43   Abstract\\nParkinson’s disease (PD) is a progre...   \n",
       "56   Abstract\\nThis paper presents an approach for ...   \n",
       "60   Abstract\\nThe perpetual oscillations of quantu...   \n",
       "83   Abstract\\nThis study examines the effectivenes...   \n",
       "86   Abstract\\nAI-driven personalization is revolut...   \n",
       "91   Abstract\\nCollaborative Filtering (CF) often e...   \n",
       "99   Abstract\\nThe growing focus on leveraging comp...   \n",
       "121  Abstract\\nThis study demonstrates that incorpo...   \n",
       "124  Abstract\\nRegression tasks, while aiming to mo...   \n",
       "128  Abstract\\nThis research examines a specific ca...   \n",
       "140  Abstract\\nThis research introduces MLB-YouTube...   \n",
       "143  Abstract\\nGraphite research has led to discove...   \n",
       "\n",
       "                                          Introduction  \\\n",
       "17   1 Introduction\\nThe dialectical nuances of met...   \n",
       "19   1 Introduction\\nDiffusion models, alongside ge...   \n",
       "22   1 Introduction\\nThe realm of coordinated dance...   \n",
       "43   1 Introduction\\nParkinson’s disease (PD) is a ...   \n",
       "56   1 Introduction\\nThe increasing adoption of mac...   \n",
       "60   1 Introduction\\nThe deployment of novel spectr...   \n",
       "83   1 Introduction\\nNoun-noun compound interpretat...   \n",
       "86   1 Introduction\\nThe advent of online education...   \n",
       "91   1 Introduction\\nContemporary recommender syste...   \n",
       "99   1 Introduction\\nThe convergence of computer vi...   \n",
       "121  1 Introduction\\nThe concept of the \"wisdom of ...   \n",
       "124  1 Introduction\\nA fundamental requirement of a...   \n",
       "128  1 Introduction\\nThe recent advancements in mac...   \n",
       "140  1 Introduction\\nAction recognition, a signific...   \n",
       "143  1 Introduction\\nThe fascinating realm of graph...   \n",
       "\n",
       "                                             Section 2  \\\n",
       "17   2 Related Work\\nThe notion of metals has been ...   \n",
       "19   2 Our contributions\\nIn this study, strong ass...   \n",
       "22   2 Related Work\\nThe intersection of augmented ...   \n",
       "43   2 Related Work\\nExtensive research has utilize...   \n",
       "56   2 Method\\nConsidering two normed vector spaces...   \n",
       "60   2 Related Work\\nThe process of photosynthesis ...   \n",
       "83   2 Related Work\\nApproaches to interpreting nou...   \n",
       "86   2 Related Work\\nAI-driven personalization in o...   \n",
       "91   2 Methodology\\nTo overcome the current difficu...   \n",
       "99   2 Related Work\\nEstimating food portions is a ...   \n",
       "121  2 Related Work\\nThe language employed by indiv...   \n",
       "124  2 Notation and Assumptions\\nIn this section, w...   \n",
       "128  2 Related literature\\nWe will concentrate on t...   \n",
       "140  2 Related Work\\nThe field of activity recognit...   \n",
       "143  2 Related Work\\nThe discovery of graphite has ...   \n",
       "\n",
       "                                             Section 3  \\\n",
       "17   3 Methodology\\nThe investigation of metals nec...   \n",
       "19   3 Our Approach\\nThe goal is to upper-bound the...   \n",
       "22   3 Methodology\\nTo investigate the relationship...   \n",
       "43   3 Cohort and Dataset\\n**Dataset:** This datase...   \n",
       "56   3 Application to Aircraft Collision Avoidance\\...   \n",
       "60   3 Methodology\\nThe intricacies of photosynthet...   \n",
       "83   3 Task Definition and Dataset\\nThe objective o...   \n",
       "86   3 Methodology\\nTo develop an AI-driven persona...   \n",
       "91   3 Model Optimization\\nTo reduce popularity bia...   \n",
       "99   3 Datasets and Evaluation Pipeline\\n3.1 Datase...   \n",
       "121  3 Dataset\\nThe research utilizes data from the...   \n",
       "124  3 Concentration of the Empirical Norm\\nSupervi...   \n",
       "128  3 OGDA for problems with weak Minty solutions\\...   \n",
       "140                                               nill   \n",
       "143  3 Methodology\\nThe pursuit of understanding gr...   \n",
       "\n",
       "                                     Rest of the Paper  \\\n",
       "17   4 Experiments\\nThe methodologies employed in t...   \n",
       "19                                                nill   \n",
       "22   4 Experiments\\nTo conduct a comprehensive eval...   \n",
       "43   4 Methodologies and Framework\\nWe introduce Mu...   \n",
       "56   4 Discussion and Future Work\\nWe propose an ap...   \n",
       "60   4 Experiments\\nThe controlled environment of t...   \n",
       "83                                                nill   \n",
       "86   4 Experiments\\nTo investigate the efficacy of ...   \n",
       "91   4 Debias Ability\\nTo further verify the effect...   \n",
       "99                                                nill   \n",
       "121  4 Experiments and Results\\nExperiments are con...   \n",
       "124  4 Uniform Generalization of Sublevel Sets of t...   \n",
       "128                                               nill   \n",
       "140  4 Segmented Video Recognition Approach\\nWe inv...   \n",
       "143  4 Experiments\\nThe preparation of graphite sam...   \n",
       "\n",
       "                                           Rest Part 1  \\\n",
       "17   4 Experiments The methodologies employed in th...   \n",
       "19                                                nill   \n",
       "22   4 Experiments To conduct a comprehensive evalu...   \n",
       "43   4 Methodologies and Framework We introduce Mul...   \n",
       "56   4 Discussion and Future Work We propose an app...   \n",
       "60   4 Experiments The controlled environment of th...   \n",
       "83                                                nill   \n",
       "86   4 Experiments To investigate the efficacy of e...   \n",
       "91   4 Debias Ability To further verify the effecti...   \n",
       "99                                                nill   \n",
       "121  4 Experiments and Results Experiments are cond...   \n",
       "124  4 Uniform Generalization of Sublevel Sets of t...   \n",
       "128                                               nill   \n",
       "140  4 Segmented Video Recognition Approach We inve...   \n",
       "143  4 Experiments The preparation of graphite samp...   \n",
       "\n",
       "                                           Rest Part 2  Label  \n",
       "17   has also explored the realm of metal-based art...      0  \n",
       "19                                                nill      1  \n",
       "22   the development of more sophisticated AR syste...      0  \n",
       "43   as in 4m-HC and 4m-PD validations, having extr...      1  \n",
       "56   scores. The data is split using an 80/20 train...      1  \n",
       "60   tons of Jell-O from the laboratory cafeteria. ...      0  \n",
       "83                                                nill      1  \n",
       "86   This phenomenon was observed when the packagin...      0  \n",
       "91   preliminary results indicate that both extreme...      1  \n",
       "99                                                nill      1  \n",
       "121  network configurations, except for the one usi...      1  \n",
       "124  capture the Sub-Gaussian structure of a proces...      1  \n",
       "128                                               nill      1  \n",
       "140  pitch and non-pitch frames. The results, detai...      1  \n",
       "143  not unlike the process of learning and memory ...      0  "
      ]
     },
     "execution_count": 14,
     "metadata": {},
     "output_type": "execute_result"
    }
   ],
   "source": [
    "df_classified.head(20)"
   ]
  },
  {
   "cell_type": "markdown",
   "id": "bc327482",
   "metadata": {
    "papermill": {
     "duration": 0.009812,
     "end_time": "2025-01-11T15:00:41.162387",
     "exception": false,
     "start_time": "2025-01-11T15:00:41.152575",
     "status": "completed"
    },
    "tags": []
   },
   "source": [
    "<h2>Finding length of strings</h2>"
   ]
  },
  {
   "cell_type": "code",
   "execution_count": 15,
   "id": "99014742",
   "metadata": {
    "execution": {
     "iopub.execute_input": "2025-01-11T15:00:41.183528Z",
     "iopub.status.busy": "2025-01-11T15:00:41.183290Z",
     "iopub.status.idle": "2025-01-11T15:00:41.361872Z",
     "shell.execute_reply": "2025-01-11T15:00:41.360813Z"
    },
    "papermill": {
     "duration": 0.190841,
     "end_time": "2025-01-11T15:00:41.363429",
     "exception": false,
     "start_time": "2025-01-11T15:00:41.172588",
     "status": "completed"
    },
    "tags": []
   },
   "outputs": [
    {
     "name": "stdout",
     "output_type": "stream",
     "text": [
      "Abstract: Average = 143.20666666666668 , Lowest = 21 , Highest = 401\n",
      "Introduction: Average = 703.62 , Lowest = 45 , Highest = 2129\n",
      "Section 2: Average = 768.4333333333333 , Lowest = 1 , Highest = 3646\n",
      "Section 3: Average = 836.96 , Lowest = 1 , Highest = 4151\n",
      "Rest of the Paper: Average = 1995.48 , Lowest = 1 , Highest = 8936\n"
     ]
    }
   ],
   "source": [
    "print(\"Abstract: Average =\", df['Abstract'].str.split().apply(len).mean(), \n",
    "      \", Lowest =\", df['Abstract'].str.split().apply(len).min(), \n",
    "      \", Highest =\", df['Abstract'].str.split().apply(len).max())\n",
    "\n",
    "print(\"Introduction: Average =\", df['Introduction'].str.split().apply(len).mean(), \n",
    "      \", Lowest =\", df['Introduction'].str.split().apply(len).min(), \n",
    "      \", Highest =\", df['Introduction'].str.split().apply(len).max())\n",
    "\n",
    "print(\"Section 2: Average =\", df['Section 2'].str.split().apply(len).mean(), \n",
    "      \", Lowest =\", df['Section 2'].str.split().apply(len).min(), \n",
    "      \", Highest =\", df['Section 2'].str.split().apply(len).max())\n",
    "\n",
    "print(\"Section 3: Average =\", df['Section 3'].str.split().apply(len).mean(), \n",
    "      \", Lowest =\", df['Section 3'].str.split().apply(len).min(), \n",
    "      \", Highest =\", df['Section 3'].str.split().apply(len).max())\n",
    "\n",
    "print(\"Rest of the Paper: Average =\", df['Rest of the Paper'].str.split().apply(len).mean(), \n",
    "      \", Lowest =\", df['Rest of the Paper'].str.split().apply(len).min(), \n",
    "      \", Highest =\", df['Rest of the Paper'].str.split().apply(len).max())\n"
   ]
  },
  {
   "cell_type": "code",
   "execution_count": 16,
   "id": "6071498b",
   "metadata": {
    "execution": {
     "iopub.execute_input": "2025-01-11T15:00:41.385206Z",
     "iopub.status.busy": "2025-01-11T15:00:41.384896Z",
     "iopub.status.idle": "2025-01-11T15:00:41.441515Z",
     "shell.execute_reply": "2025-01-11T15:00:41.440637Z"
    },
    "papermill": {
     "duration": 0.068925,
     "end_time": "2025-01-11T15:00:41.442968",
     "exception": false,
     "start_time": "2025-01-11T15:00:41.374043",
     "status": "completed"
    },
    "tags": []
   },
   "outputs": [
    {
     "name": "stdout",
     "output_type": "stream",
     "text": [
      "Abstract: 401\n",
      "Introduction: 2129\n",
      "Section 2: 3646\n",
      "Section 3: 4151\n",
      "Rest Part 1: 4468\n",
      "Rest Part 2: 4468\n"
     ]
    }
   ],
   "source": [
    "print(\"Abstract:\", max(df['Abstract'].str.split().apply(len)))\n",
    "print(\"Introduction:\", max(df['Introduction'].str.split().apply(len)))\n",
    "print(\"Section 2:\", max(df['Section 2'].str.split().apply(len)))\n",
    "print(\"Section 3:\", max(df['Section 3'].str.split().apply(len)))\n",
    "print(\"Rest Part 1:\", max(df['Rest Part 1'].str.split().apply(len)))\n",
    "print(\"Rest Part 2:\", max(df['Rest Part 2'].str.split().apply(len)))"
   ]
  },
  {
   "cell_type": "markdown",
   "id": "917aae67",
   "metadata": {
    "papermill": {
     "duration": 0.0101,
     "end_time": "2025-01-11T15:00:41.464404",
     "exception": false,
     "start_time": "2025-01-11T15:00:41.454304",
     "status": "completed"
    },
    "tags": []
   },
   "source": [
    "<h2>First summarize then apply in BERT model</h2>"
   ]
  },
  {
   "cell_type": "code",
   "execution_count": 17,
   "id": "8fbae393",
   "metadata": {
    "execution": {
     "iopub.execute_input": "2025-01-11T15:00:41.485574Z",
     "iopub.status.busy": "2025-01-11T15:00:41.485303Z",
     "iopub.status.idle": "2025-01-11T15:00:45.044178Z",
     "shell.execute_reply": "2025-01-11T15:00:45.042964Z"
    },
    "papermill": {
     "duration": 3.571759,
     "end_time": "2025-01-11T15:00:45.046007",
     "exception": false,
     "start_time": "2025-01-11T15:00:41.474248",
     "status": "completed"
    },
    "tags": []
   },
   "outputs": [
    {
     "name": "stdout",
     "output_type": "stream",
     "text": [
      "Requirement already satisfied: transformers in /usr/local/lib/python3.10/dist-packages (4.44.2)\r\n",
      "Requirement already satisfied: torch in /usr/local/lib/python3.10/dist-packages (2.4.1+cu121)\r\n",
      "Requirement already satisfied: filelock in /usr/local/lib/python3.10/dist-packages (from transformers) (3.16.1)\r\n",
      "Requirement already satisfied: huggingface-hub<1.0,>=0.23.2 in /usr/local/lib/python3.10/dist-packages (from transformers) (0.24.7)\r\n",
      "Requirement already satisfied: numpy>=1.17 in /usr/local/lib/python3.10/dist-packages (from transformers) (1.26.4)\r\n",
      "Requirement already satisfied: packaging>=20.0 in /usr/local/lib/python3.10/dist-packages (from transformers) (24.1)\r\n",
      "Requirement already satisfied: pyyaml>=5.1 in /usr/local/lib/python3.10/dist-packages (from transformers) (6.0.2)\r\n",
      "Requirement already satisfied: regex!=2019.12.17 in /usr/local/lib/python3.10/dist-packages (from transformers) (2024.9.11)\r\n",
      "Requirement already satisfied: requests in /usr/local/lib/python3.10/dist-packages (from transformers) (2.32.3)\r\n",
      "Requirement already satisfied: safetensors>=0.4.1 in /usr/local/lib/python3.10/dist-packages (from transformers) (0.4.5)\r\n",
      "Requirement already satisfied: tokenizers<0.20,>=0.19 in /usr/local/lib/python3.10/dist-packages (from transformers) (0.19.1)\r\n",
      "Requirement already satisfied: tqdm>=4.27 in /usr/local/lib/python3.10/dist-packages (from transformers) (4.66.5)\r\n",
      "Requirement already satisfied: typing-extensions>=4.8.0 in /usr/local/lib/python3.10/dist-packages (from torch) (4.12.2)\r\n",
      "Requirement already satisfied: sympy in /usr/local/lib/python3.10/dist-packages (from torch) (1.13.3)\r\n",
      "Requirement already satisfied: networkx in /usr/local/lib/python3.10/dist-packages (from torch) (3.3)\r\n",
      "Requirement already satisfied: jinja2 in /usr/local/lib/python3.10/dist-packages (from torch) (3.1.4)\r\n",
      "Requirement already satisfied: fsspec in /usr/local/lib/python3.10/dist-packages (from torch) (2024.6.1)\r\n",
      "Requirement already satisfied: MarkupSafe>=2.0 in /usr/local/lib/python3.10/dist-packages (from jinja2->torch) (2.1.5)\r\n",
      "Requirement already satisfied: charset-normalizer<4,>=2 in /usr/local/lib/python3.10/dist-packages (from requests->transformers) (3.3.2)\r\n",
      "Requirement already satisfied: idna<4,>=2.5 in /usr/local/lib/python3.10/dist-packages (from requests->transformers) (3.10)\r\n",
      "Requirement already satisfied: urllib3<3,>=1.21.1 in /usr/local/lib/python3.10/dist-packages (from requests->transformers) (2.2.3)\r\n",
      "Requirement already satisfied: certifi>=2017.4.17 in /usr/local/lib/python3.10/dist-packages (from requests->transformers) (2024.8.30)\r\n",
      "Requirement already satisfied: mpmath<1.4,>=1.1.0 in /usr/local/lib/python3.10/dist-packages (from sympy->torch) (1.3.0)\r\n"
     ]
    }
   ],
   "source": [
    "!pip install transformers torch"
   ]
  },
  {
   "cell_type": "code",
   "execution_count": 18,
   "id": "c9998273",
   "metadata": {
    "execution": {
     "iopub.execute_input": "2025-01-11T15:00:45.068631Z",
     "iopub.status.busy": "2025-01-11T15:00:45.068343Z",
     "iopub.status.idle": "2025-01-11T15:00:45.081692Z",
     "shell.execute_reply": "2025-01-11T15:00:45.080795Z"
    },
    "papermill": {
     "duration": 0.026254,
     "end_time": "2025-01-11T15:00:45.083265",
     "exception": false,
     "start_time": "2025-01-11T15:00:45.057011",
     "status": "completed"
    },
    "tags": []
   },
   "outputs": [
    {
     "name": "stdout",
     "output_type": "stream",
     "text": [
      "<class 'pandas.core.frame.DataFrame'>\n",
      "RangeIndex: 150 entries, 0 to 149\n",
      "Data columns (total 9 columns):\n",
      " #   Column             Non-Null Count  Dtype \n",
      "---  ------             --------------  ----- \n",
      " 0   PDF Name           150 non-null    object\n",
      " 1   Title of Paper     150 non-null    object\n",
      " 2   Abstract           150 non-null    object\n",
      " 3   Introduction       150 non-null    object\n",
      " 4   Section 2          150 non-null    object\n",
      " 5   Section 3          150 non-null    object\n",
      " 6   Rest of the Paper  150 non-null    object\n",
      " 7   Rest Part 1        150 non-null    object\n",
      " 8   Rest Part 2        150 non-null    object\n",
      "dtypes: object(9)\n",
      "memory usage: 10.7+ KB\n"
     ]
    }
   ],
   "source": [
    "df.info()"
   ]
  },
  {
   "cell_type": "code",
   "execution_count": null,
   "id": "1ef8e27a",
   "metadata": {
    "papermill": {
     "duration": 0.010232,
     "end_time": "2025-01-11T15:00:45.104798",
     "exception": false,
     "start_time": "2025-01-11T15:00:45.094566",
     "status": "completed"
    },
    "tags": []
   },
   "outputs": [],
   "source": []
  },
  {
   "cell_type": "markdown",
   "id": "a0a604de",
   "metadata": {
    "papermill": {
     "duration": 0.010539,
     "end_time": "2025-01-11T15:00:45.125807",
     "exception": false,
     "start_time": "2025-01-11T15:00:45.115268",
     "status": "completed"
    },
    "tags": []
   },
   "source": [
    "<h3>Creating new dataframes for each pair</h3>"
   ]
  },
  {
   "cell_type": "code",
   "execution_count": 19,
   "id": "20d1fa85",
   "metadata": {
    "execution": {
     "iopub.execute_input": "2025-01-11T15:00:45.147427Z",
     "iopub.status.busy": "2025-01-11T15:00:45.147146Z",
     "iopub.status.idle": "2025-01-11T15:00:45.154292Z",
     "shell.execute_reply": "2025-01-11T15:00:45.153641Z"
    },
    "papermill": {
     "duration": 0.019558,
     "end_time": "2025-01-11T15:00:45.155661",
     "exception": false,
     "start_time": "2025-01-11T15:00:45.136103",
     "status": "completed"
    },
    "tags": []
   },
   "outputs": [],
   "source": [
    "# Assuming df_classified already has 'Abstract' and 'Label' columns\n",
    "df_abstract = pd.DataFrame()\n",
    "df_abstract['Abstract'] = df_classified['Abstract']\n",
    "df_abstract['Label'] = df_classified['Label']"
   ]
  },
  {
   "cell_type": "code",
   "execution_count": 20,
   "id": "91bce211",
   "metadata": {
    "execution": {
     "iopub.execute_input": "2025-01-11T15:00:45.177949Z",
     "iopub.status.busy": "2025-01-11T15:00:45.177724Z",
     "iopub.status.idle": "2025-01-11T15:00:45.185495Z",
     "shell.execute_reply": "2025-01-11T15:00:45.184747Z"
    },
    "papermill": {
     "duration": 0.020094,
     "end_time": "2025-01-11T15:00:45.186717",
     "exception": false,
     "start_time": "2025-01-11T15:00:45.166623",
     "status": "completed"
    },
    "tags": []
   },
   "outputs": [
    {
     "data": {
      "text/html": [
       "<div>\n",
       "<style scoped>\n",
       "    .dataframe tbody tr th:only-of-type {\n",
       "        vertical-align: middle;\n",
       "    }\n",
       "\n",
       "    .dataframe tbody tr th {\n",
       "        vertical-align: top;\n",
       "    }\n",
       "\n",
       "    .dataframe thead th {\n",
       "        text-align: right;\n",
       "    }\n",
       "</style>\n",
       "<table border=\"1\" class=\"dataframe\">\n",
       "  <thead>\n",
       "    <tr style=\"text-align: right;\">\n",
       "      <th></th>\n",
       "      <th>Abstract</th>\n",
       "      <th>Label</th>\n",
       "    </tr>\n",
       "  </thead>\n",
       "  <tbody>\n",
       "    <tr>\n",
       "      <th>17</th>\n",
       "      <td>Abstract\\nMetamorphosis of galvanic oscillatio...</td>\n",
       "      <td>0</td>\n",
       "    </tr>\n",
       "    <tr>\n",
       "      <th>19</th>\n",
       "      <td>Abstract\\nDeep generative models, particularly...</td>\n",
       "      <td>1</td>\n",
       "    </tr>\n",
       "    <tr>\n",
       "      <th>22</th>\n",
       "      <td>Abstract\\nThe convergence of augmented reality...</td>\n",
       "      <td>0</td>\n",
       "    </tr>\n",
       "    <tr>\n",
       "      <th>43</th>\n",
       "      <td>Abstract\\nParkinson’s disease (PD) is a progre...</td>\n",
       "      <td>1</td>\n",
       "    </tr>\n",
       "    <tr>\n",
       "      <th>56</th>\n",
       "      <td>Abstract\\nThis paper presents an approach for ...</td>\n",
       "      <td>1</td>\n",
       "    </tr>\n",
       "  </tbody>\n",
       "</table>\n",
       "</div>"
      ],
      "text/plain": [
       "                                             Abstract  Label\n",
       "17  Abstract\\nMetamorphosis of galvanic oscillatio...      0\n",
       "19  Abstract\\nDeep generative models, particularly...      1\n",
       "22  Abstract\\nThe convergence of augmented reality...      0\n",
       "43  Abstract\\nParkinson’s disease (PD) is a progre...      1\n",
       "56  Abstract\\nThis paper presents an approach for ...      1"
      ]
     },
     "execution_count": 20,
     "metadata": {},
     "output_type": "execute_result"
    }
   ],
   "source": [
    "df_abstract.head()"
   ]
  },
  {
   "cell_type": "code",
   "execution_count": 21,
   "id": "f29fd9dc",
   "metadata": {
    "execution": {
     "iopub.execute_input": "2025-01-11T15:00:45.208713Z",
     "iopub.status.busy": "2025-01-11T15:00:45.208481Z",
     "iopub.status.idle": "2025-01-11T15:00:45.213019Z",
     "shell.execute_reply": "2025-01-11T15:00:45.212409Z"
    },
    "papermill": {
     "duration": 0.017191,
     "end_time": "2025-01-11T15:00:45.214393",
     "exception": false,
     "start_time": "2025-01-11T15:00:45.197202",
     "status": "completed"
    },
    "tags": []
   },
   "outputs": [],
   "source": [
    "df_intro = pd.DataFrame()\n",
    "df_intro['Introduction'] = df_classified['Introduction']\n",
    "df_intro['Label'] = df_classified['Label']"
   ]
  },
  {
   "cell_type": "code",
   "execution_count": 22,
   "id": "e9369f12",
   "metadata": {
    "execution": {
     "iopub.execute_input": "2025-01-11T15:00:45.236214Z",
     "iopub.status.busy": "2025-01-11T15:00:45.235964Z",
     "iopub.status.idle": "2025-01-11T15:00:45.240421Z",
     "shell.execute_reply": "2025-01-11T15:00:45.239822Z"
    },
    "papermill": {
     "duration": 0.016896,
     "end_time": "2025-01-11T15:00:45.241877",
     "exception": false,
     "start_time": "2025-01-11T15:00:45.224981",
     "status": "completed"
    },
    "tags": []
   },
   "outputs": [],
   "source": [
    "df_sec2 = pd.DataFrame()\n",
    "df_sec2['Section 2'] = df_classified['Section 2']\n",
    "df_sec2['Label'] = df_classified['Label']"
   ]
  },
  {
   "cell_type": "code",
   "execution_count": 23,
   "id": "fb4e6db4",
   "metadata": {
    "execution": {
     "iopub.execute_input": "2025-01-11T15:00:45.265109Z",
     "iopub.status.busy": "2025-01-11T15:00:45.264835Z",
     "iopub.status.idle": "2025-01-11T15:00:45.269988Z",
     "shell.execute_reply": "2025-01-11T15:00:45.269181Z"
    },
    "papermill": {
     "duration": 0.017699,
     "end_time": "2025-01-11T15:00:45.271283",
     "exception": false,
     "start_time": "2025-01-11T15:00:45.253584",
     "status": "completed"
    },
    "tags": []
   },
   "outputs": [],
   "source": [
    "df_sec3 = pd.DataFrame()\n",
    "df_sec3['Section 3'] = df_classified['Section 3']\n",
    "df_sec3['Label'] = df_classified['Label']"
   ]
  },
  {
   "cell_type": "code",
   "execution_count": 24,
   "id": "9f94b0d4",
   "metadata": {
    "execution": {
     "iopub.execute_input": "2025-01-11T15:00:45.293395Z",
     "iopub.status.busy": "2025-01-11T15:00:45.293177Z",
     "iopub.status.idle": "2025-01-11T15:00:45.297771Z",
     "shell.execute_reply": "2025-01-11T15:00:45.297026Z"
    },
    "papermill": {
     "duration": 0.017295,
     "end_time": "2025-01-11T15:00:45.299135",
     "exception": false,
     "start_time": "2025-01-11T15:00:45.281840",
     "status": "completed"
    },
    "tags": []
   },
   "outputs": [],
   "source": [
    "df_restp1 = pd.DataFrame()\n",
    "df_restp1['Rest Part 1'] = df_classified['Rest Part 1']\n",
    "df_restp1['Label'] = df_classified['Label']"
   ]
  },
  {
   "cell_type": "code",
   "execution_count": 25,
   "id": "fb0481f6",
   "metadata": {
    "execution": {
     "iopub.execute_input": "2025-01-11T15:00:45.321936Z",
     "iopub.status.busy": "2025-01-11T15:00:45.321506Z",
     "iopub.status.idle": "2025-01-11T15:00:45.326701Z",
     "shell.execute_reply": "2025-01-11T15:00:45.325944Z"
    },
    "papermill": {
     "duration": 0.017482,
     "end_time": "2025-01-11T15:00:45.328003",
     "exception": false,
     "start_time": "2025-01-11T15:00:45.310521",
     "status": "completed"
    },
    "tags": []
   },
   "outputs": [],
   "source": [
    "df_restp2 = pd.DataFrame()\n",
    "df_restp2['Rest Part 2'] = df_classified['Rest Part 2']\n",
    "df_restp2['Label'] = df_classified['Label']"
   ]
  },
  {
   "cell_type": "markdown",
   "id": "15e793b3",
   "metadata": {
    "papermill": {
     "duration": 0.010353,
     "end_time": "2025-01-11T15:00:45.348957",
     "exception": false,
     "start_time": "2025-01-11T15:00:45.338604",
     "status": "completed"
    },
    "tags": []
   },
   "source": [
    "<h2>df_abstract</h2>\n",
    "<h2>df_intro</h2>\n",
    "<h2>df_sec2</h2>\n",
    "<h2>df_sec3</h2>\n",
    "<h2>df_restp1</h2>\n",
    "<h2>df_restp2</h2>"
   ]
  },
  {
   "cell_type": "markdown",
   "id": "4bff3733",
   "metadata": {
    "papermill": {
     "duration": 0.010048,
     "end_time": "2025-01-11T15:00:45.369438",
     "exception": false,
     "start_time": "2025-01-11T15:00:45.359390",
     "status": "completed"
    },
    "tags": []
   },
   "source": [
    "<h1>Implementing the models</h1>"
   ]
  },
  {
   "cell_type": "code",
   "execution_count": 26,
   "id": "f69830f3",
   "metadata": {
    "execution": {
     "iopub.execute_input": "2025-01-11T15:00:45.391597Z",
     "iopub.status.busy": "2025-01-11T15:00:45.391332Z",
     "iopub.status.idle": "2025-01-11T15:01:03.815322Z",
     "shell.execute_reply": "2025-01-11T15:01:03.814124Z"
    },
    "papermill": {
     "duration": 18.437404,
     "end_time": "2025-01-11T15:01:03.817169",
     "exception": false,
     "start_time": "2025-01-11T15:00:45.379765",
     "status": "completed"
    },
    "tags": []
   },
   "outputs": [
    {
     "name": "stdout",
     "output_type": "stream",
     "text": [
      "Requirement already satisfied: accelerate in /usr/local/lib/python3.10/dist-packages (0.34.2)\r\n",
      "Collecting accelerate\r\n",
      "  Downloading accelerate-1.2.1-py3-none-any.whl.metadata (19 kB)\r\n",
      "Requirement already satisfied: numpy<3.0.0,>=1.17 in /usr/local/lib/python3.10/dist-packages (from accelerate) (1.26.4)\r\n",
      "Requirement already satisfied: packaging>=20.0 in /usr/local/lib/python3.10/dist-packages (from accelerate) (24.1)\r\n",
      "Requirement already satisfied: psutil in /usr/local/lib/python3.10/dist-packages (from accelerate) (5.9.5)\r\n",
      "Requirement already satisfied: pyyaml in /usr/local/lib/python3.10/dist-packages (from accelerate) (6.0.2)\r\n",
      "Requirement already satisfied: torch>=1.10.0 in /usr/local/lib/python3.10/dist-packages (from accelerate) (2.4.1+cu121)\r\n",
      "Requirement already satisfied: huggingface-hub>=0.21.0 in /usr/local/lib/python3.10/dist-packages (from accelerate) (0.24.7)\r\n",
      "Requirement already satisfied: safetensors>=0.4.3 in /usr/local/lib/python3.10/dist-packages (from accelerate) (0.4.5)\r\n",
      "Requirement already satisfied: filelock in /usr/local/lib/python3.10/dist-packages (from huggingface-hub>=0.21.0->accelerate) (3.16.1)\r\n",
      "Requirement already satisfied: fsspec>=2023.5.0 in /usr/local/lib/python3.10/dist-packages (from huggingface-hub>=0.21.0->accelerate) (2024.6.1)\r\n",
      "Requirement already satisfied: requests in /usr/local/lib/python3.10/dist-packages (from huggingface-hub>=0.21.0->accelerate) (2.32.3)\r\n",
      "Requirement already satisfied: tqdm>=4.42.1 in /usr/local/lib/python3.10/dist-packages (from huggingface-hub>=0.21.0->accelerate) (4.66.5)\r\n",
      "Requirement already satisfied: typing-extensions>=3.7.4.3 in /usr/local/lib/python3.10/dist-packages (from huggingface-hub>=0.21.0->accelerate) (4.12.2)\r\n",
      "Requirement already satisfied: sympy in /usr/local/lib/python3.10/dist-packages (from torch>=1.10.0->accelerate) (1.13.3)\r\n",
      "Requirement already satisfied: networkx in /usr/local/lib/python3.10/dist-packages (from torch>=1.10.0->accelerate) (3.3)\r\n",
      "Requirement already satisfied: jinja2 in /usr/local/lib/python3.10/dist-packages (from torch>=1.10.0->accelerate) (3.1.4)\r\n",
      "Requirement already satisfied: MarkupSafe>=2.0 in /usr/local/lib/python3.10/dist-packages (from jinja2->torch>=1.10.0->accelerate) (2.1.5)\r\n",
      "Requirement already satisfied: charset-normalizer<4,>=2 in /usr/local/lib/python3.10/dist-packages (from requests->huggingface-hub>=0.21.0->accelerate) (3.3.2)\r\n",
      "Requirement already satisfied: idna<4,>=2.5 in /usr/local/lib/python3.10/dist-packages (from requests->huggingface-hub>=0.21.0->accelerate) (3.10)\r\n",
      "Requirement already satisfied: urllib3<3,>=1.21.1 in /usr/local/lib/python3.10/dist-packages (from requests->huggingface-hub>=0.21.0->accelerate) (2.2.3)\r\n",
      "Requirement already satisfied: certifi>=2017.4.17 in /usr/local/lib/python3.10/dist-packages (from requests->huggingface-hub>=0.21.0->accelerate) (2024.8.30)\r\n",
      "Requirement already satisfied: mpmath<1.4,>=1.1.0 in /usr/local/lib/python3.10/dist-packages (from sympy->torch>=1.10.0->accelerate) (1.3.0)\r\n",
      "Downloading accelerate-1.2.1-py3-none-any.whl (336 kB)\r\n",
      "\u001b[2K   \u001b[90m━━━━━━━━━━━━━━━━━━━━━━━━━━━━━━━━━━━━━━━━\u001b[0m \u001b[32m336.4/336.4 kB\u001b[0m \u001b[31m8.9 MB/s\u001b[0m eta \u001b[36m0:00:00\u001b[0m\r\n",
      "\u001b[?25hInstalling collected packages: accelerate\r\n",
      "  Attempting uninstall: accelerate\r\n",
      "    Found existing installation: accelerate 0.34.2\r\n",
      "    Uninstalling accelerate-0.34.2:\r\n",
      "      Successfully uninstalled accelerate-0.34.2\r\n",
      "Successfully installed accelerate-1.2.1\r\n",
      "Requirement already satisfied: transformers in /usr/local/lib/python3.10/dist-packages (4.44.2)\r\n",
      "Collecting transformers\r\n",
      "  Downloading transformers-4.48.0-py3-none-any.whl.metadata (44 kB)\r\n",
      "\u001b[2K     \u001b[90m━━━━━━━━━━━━━━━━━━━━━━━━━━━━━━━━━━━━━━━━\u001b[0m \u001b[32m44.4/44.4 kB\u001b[0m \u001b[31m1.9 MB/s\u001b[0m eta \u001b[36m0:00:00\u001b[0m\r\n",
      "\u001b[?25hRequirement already satisfied: filelock in /usr/local/lib/python3.10/dist-packages (from transformers) (3.16.1)\r\n",
      "Requirement already satisfied: huggingface-hub<1.0,>=0.24.0 in /usr/local/lib/python3.10/dist-packages (from transformers) (0.24.7)\r\n",
      "Requirement already satisfied: numpy>=1.17 in /usr/local/lib/python3.10/dist-packages (from transformers) (1.26.4)\r\n",
      "Requirement already satisfied: packaging>=20.0 in /usr/local/lib/python3.10/dist-packages (from transformers) (24.1)\r\n",
      "Requirement already satisfied: pyyaml>=5.1 in /usr/local/lib/python3.10/dist-packages (from transformers) (6.0.2)\r\n",
      "Requirement already satisfied: regex!=2019.12.17 in /usr/local/lib/python3.10/dist-packages (from transformers) (2024.9.11)\r\n",
      "Requirement already satisfied: requests in /usr/local/lib/python3.10/dist-packages (from transformers) (2.32.3)\r\n",
      "Collecting tokenizers<0.22,>=0.21 (from transformers)\r\n",
      "  Downloading tokenizers-0.21.0-cp39-abi3-manylinux_2_17_x86_64.manylinux2014_x86_64.whl.metadata (6.7 kB)\r\n",
      "Requirement already satisfied: safetensors>=0.4.1 in /usr/local/lib/python3.10/dist-packages (from transformers) (0.4.5)\r\n",
      "Requirement already satisfied: tqdm>=4.27 in /usr/local/lib/python3.10/dist-packages (from transformers) (4.66.5)\r\n",
      "Requirement already satisfied: fsspec>=2023.5.0 in /usr/local/lib/python3.10/dist-packages (from huggingface-hub<1.0,>=0.24.0->transformers) (2024.6.1)\r\n",
      "Requirement already satisfied: typing-extensions>=3.7.4.3 in /usr/local/lib/python3.10/dist-packages (from huggingface-hub<1.0,>=0.24.0->transformers) (4.12.2)\r\n",
      "Requirement already satisfied: charset-normalizer<4,>=2 in /usr/local/lib/python3.10/dist-packages (from requests->transformers) (3.3.2)\r\n",
      "Requirement already satisfied: idna<4,>=2.5 in /usr/local/lib/python3.10/dist-packages (from requests->transformers) (3.10)\r\n",
      "Requirement already satisfied: urllib3<3,>=1.21.1 in /usr/local/lib/python3.10/dist-packages (from requests->transformers) (2.2.3)\r\n",
      "Requirement already satisfied: certifi>=2017.4.17 in /usr/local/lib/python3.10/dist-packages (from requests->transformers) (2024.8.30)\r\n",
      "Downloading transformers-4.48.0-py3-none-any.whl (9.7 MB)\r\n",
      "\u001b[2K   \u001b[90m━━━━━━━━━━━━━━━━━━━━━━━━━━━━━━━━━━━━━━━━\u001b[0m \u001b[32m9.7/9.7 MB\u001b[0m \u001b[31m79.7 MB/s\u001b[0m eta \u001b[36m0:00:00\u001b[0m\r\n",
      "\u001b[?25hDownloading tokenizers-0.21.0-cp39-abi3-manylinux_2_17_x86_64.manylinux2014_x86_64.whl (3.0 MB)\r\n",
      "\u001b[2K   \u001b[90m━━━━━━━━━━━━━━━━━━━━━━━━━━━━━━━━━━━━━━━━\u001b[0m \u001b[32m3.0/3.0 MB\u001b[0m \u001b[31m78.6 MB/s\u001b[0m eta \u001b[36m0:00:00\u001b[0m\r\n",
      "\u001b[?25hInstalling collected packages: tokenizers, transformers\r\n",
      "  Attempting uninstall: tokenizers\r\n",
      "    Found existing installation: tokenizers 0.19.1\r\n",
      "    Uninstalling tokenizers-0.19.1:\r\n",
      "      Successfully uninstalled tokenizers-0.19.1\r\n",
      "  Attempting uninstall: transformers\r\n",
      "    Found existing installation: transformers 4.44.2\r\n",
      "    Uninstalling transformers-4.44.2:\r\n",
      "      Successfully uninstalled transformers-4.44.2\r\n",
      "Successfully installed tokenizers-0.21.0 transformers-4.48.0\r\n"
     ]
    }
   ],
   "source": [
    "!pip install -U accelerate\n",
    "!pip install -U transformers"
   ]
  },
  {
   "cell_type": "code",
   "execution_count": null,
   "id": "6f25e84d",
   "metadata": {
    "papermill": {
     "duration": 0.01138,
     "end_time": "2025-01-11T15:01:03.840989",
     "exception": false,
     "start_time": "2025-01-11T15:01:03.829609",
     "status": "completed"
    },
    "tags": []
   },
   "outputs": [],
   "source": []
  },
  {
   "cell_type": "code",
   "execution_count": 27,
   "id": "39647d62",
   "metadata": {
    "execution": {
     "iopub.execute_input": "2025-01-11T15:01:03.865695Z",
     "iopub.status.busy": "2025-01-11T15:01:03.865399Z",
     "iopub.status.idle": "2025-01-11T15:01:18.700583Z",
     "shell.execute_reply": "2025-01-11T15:01:18.699834Z"
    },
    "papermill": {
     "duration": 14.849523,
     "end_time": "2025-01-11T15:01:18.702316",
     "exception": false,
     "start_time": "2025-01-11T15:01:03.852793",
     "status": "completed"
    },
    "tags": []
   },
   "outputs": [],
   "source": [
    "import torch\n",
    "from transformers import AutoTokenizer\n",
    "from transformers import BigBirdPegasusForSequenceClassification, AutoModelForSequenceClassification\n",
    "from sklearn.model_selection import train_test_split\n",
    "from torch.utils.data import Dataset"
   ]
  },
  {
   "cell_type": "code",
   "execution_count": 28,
   "id": "26ce57c0",
   "metadata": {
    "execution": {
     "iopub.execute_input": "2025-01-11T15:01:18.727655Z",
     "iopub.status.busy": "2025-01-11T15:01:18.727146Z",
     "iopub.status.idle": "2025-01-11T15:01:18.730391Z",
     "shell.execute_reply": "2025-01-11T15:01:18.729677Z"
    },
    "papermill": {
     "duration": 0.016884,
     "end_time": "2025-01-11T15:01:18.731604",
     "exception": false,
     "start_time": "2025-01-11T15:01:18.714720",
     "status": "completed"
    },
    "tags": []
   },
   "outputs": [],
   "source": [
    "# checkpoint = \"google/bigbird-pegasus-large-arxiv\"\n",
    "# tokenizer = AutoTokenizer.from_pretrained(checkpoint)\n",
    "# model = BigBirdPegasusForSequenceClassification.from_pretrained(\n",
    "#     checkpoint,\n",
    "#     num_labels=2,\n",
    "#     problem_type=\"binary_classification\"\n",
    "# )"
   ]
  },
  {
   "cell_type": "code",
   "execution_count": 29,
   "id": "a02afef5",
   "metadata": {
    "execution": {
     "iopub.execute_input": "2025-01-11T15:01:18.755973Z",
     "iopub.status.busy": "2025-01-11T15:01:18.755766Z",
     "iopub.status.idle": "2025-01-11T15:01:18.759713Z",
     "shell.execute_reply": "2025-01-11T15:01:18.759040Z"
    },
    "papermill": {
     "duration": 0.017351,
     "end_time": "2025-01-11T15:01:18.760940",
     "exception": false,
     "start_time": "2025-01-11T15:01:18.743589",
     "status": "completed"
    },
    "tags": []
   },
   "outputs": [],
   "source": [
    "# Assuming df_abstract is your DataFrame with two columns: 'text' and 'label'\n",
    "texts = df_abstract['Abstract'].tolist()  # Extract the 'text' column\n",
    "labels = df_abstract['Label'].tolist()  # Extract the 'label' column"
   ]
  },
  {
   "cell_type": "code",
   "execution_count": 30,
   "id": "630fdd41",
   "metadata": {
    "execution": {
     "iopub.execute_input": "2025-01-11T15:01:18.785620Z",
     "iopub.status.busy": "2025-01-11T15:01:18.785408Z",
     "iopub.status.idle": "2025-01-11T15:01:18.791969Z",
     "shell.execute_reply": "2025-01-11T15:01:18.791365Z"
    },
    "papermill": {
     "duration": 0.020459,
     "end_time": "2025-01-11T15:01:18.793244",
     "exception": false,
     "start_time": "2025-01-11T15:01:18.772785",
     "status": "completed"
    },
    "tags": []
   },
   "outputs": [],
   "source": [
    "train_texts, val_texts, train_labels, val_labels = train_test_split(texts, labels,\n",
    "                                                                    test_size=0.2, random_state=42)"
   ]
  },
  {
   "cell_type": "code",
   "execution_count": 31,
   "id": "0404a55b",
   "metadata": {
    "execution": {
     "iopub.execute_input": "2025-01-11T15:01:18.818198Z",
     "iopub.status.busy": "2025-01-11T15:01:18.817923Z",
     "iopub.status.idle": "2025-01-11T15:01:18.821183Z",
     "shell.execute_reply": "2025-01-11T15:01:18.820455Z"
    },
    "papermill": {
     "duration": 0.016943,
     "end_time": "2025-01-11T15:01:18.822324",
     "exception": false,
     "start_time": "2025-01-11T15:01:18.805381",
     "status": "completed"
    },
    "tags": []
   },
   "outputs": [],
   "source": [
    "# # Ensure the labels in the dataset are `torch.long`\n",
    "# class CustomDataset(Dataset):\n",
    "#     def __init__(self, texts, labels, tokenizer, max_len=4096):\n",
    "#         self.texts = texts\n",
    "#         self.labels = labels\n",
    "#         self.tokenizer = tokenizer\n",
    "#         self.max_len = max_len\n",
    "\n",
    "#     def __len__(self):\n",
    "#         return len(self.texts)\n",
    "\n",
    "#     def __getitem__(self, idx):\n",
    "#         text = str(self.texts[idx])\n",
    "#         label = torch.tensor(self.labels[idx], dtype=torch.long)  # Ensure labels are `torch.long`\n",
    "\n",
    "#         encoding = self.tokenizer(\n",
    "#             text, truncation=True, padding=\"max_length\", max_length=self.max_len, return_tensors='pt'\n",
    "#         )\n",
    "\n",
    "#         return {\n",
    "#             'input_ids': encoding['input_ids'].flatten(),\n",
    "#             'attention_mask': encoding['attention_mask'].flatten(),\n",
    "#             'labels': label\n",
    "#         }"
   ]
  },
  {
   "cell_type": "code",
   "execution_count": 32,
   "id": "1234004b",
   "metadata": {
    "execution": {
     "iopub.execute_input": "2025-01-11T15:01:18.846136Z",
     "iopub.status.busy": "2025-01-11T15:01:18.845859Z",
     "iopub.status.idle": "2025-01-11T15:01:18.848999Z",
     "shell.execute_reply": "2025-01-11T15:01:18.848212Z"
    },
    "papermill": {
     "duration": 0.01655,
     "end_time": "2025-01-11T15:01:18.850311",
     "exception": false,
     "start_time": "2025-01-11T15:01:18.833761",
     "status": "completed"
    },
    "tags": []
   },
   "outputs": [],
   "source": [
    "# train_dataset = CustomDataset(train_texts, train_labels, tokenizer)\n",
    "# val_dataset = CustomDataset(val_texts, val_labels, tokenizer)"
   ]
  },
  {
   "cell_type": "code",
   "execution_count": 33,
   "id": "03c35967",
   "metadata": {
    "execution": {
     "iopub.execute_input": "2025-01-11T15:01:18.874563Z",
     "iopub.status.busy": "2025-01-11T15:01:18.874363Z",
     "iopub.status.idle": "2025-01-11T15:01:18.877558Z",
     "shell.execute_reply": "2025-01-11T15:01:18.876832Z"
    },
    "papermill": {
     "duration": 0.016583,
     "end_time": "2025-01-11T15:01:18.878776",
     "exception": false,
     "start_time": "2025-01-11T15:01:18.862193",
     "status": "completed"
    },
    "tags": []
   },
   "outputs": [],
   "source": [
    "# import numpy as np\n",
    "# from sklearn.metrics import roc_auc_score, f1_score, hamming_loss\n",
    "# from transformers import EvalPrediction\n",
    "# import torch\n",
    "\n",
    "\n",
    "# def binary_classification_metrics(predictions, labels, threshold=0.5):\n",
    "#     sigmoid = torch.nn.Sigmoid()\n",
    "#     probs = sigmoid(torch.Tensor(predictions))  # Apply Sigmoid to get probabilities\n",
    "\n",
    "#     # Convert probabilities to binary predictions based on the threshold\n",
    "#     y_pred = (probs >= threshold).float()\n",
    "#     y_true = labels\n",
    "\n",
    "#     # Calculate metrics\n",
    "#     f1 = f1_score(y_true, y_pred, average='binary')  # F1 score for binary classification\n",
    "#     roc_auc = roc_auc_score(y_true, y_pred)  # ROC AUC score for binary classification\n",
    "#     hamming = hamming_loss(y_true, y_pred)  # Hamming loss\n",
    "\n",
    "#     # Return metrics\n",
    "#     metrics = {\n",
    "#         \"roc_auc\": roc_auc,\n",
    "#         \"hamming_loss\": hamming,\n",
    "#         \"f1\": f1\n",
    "#     }\n",
    "\n",
    "#     return metrics\n",
    "\n",
    "\n",
    "# def compute_metrics(p: EvalPrediction):\n",
    "#     preds = p.predictions[0] if isinstance(p.predictions, tuple) else p.predictions\n",
    "\n",
    "#     result = binary_classification_metrics(predictions=preds,\n",
    "#                                            labels=p.label_ids)\n",
    "\n",
    "#     return result\n"
   ]
  },
  {
   "cell_type": "code",
   "execution_count": 34,
   "id": "5bb55809",
   "metadata": {
    "execution": {
     "iopub.execute_input": "2025-01-11T15:01:18.902408Z",
     "iopub.status.busy": "2025-01-11T15:01:18.902168Z",
     "iopub.status.idle": "2025-01-11T15:01:18.905138Z",
     "shell.execute_reply": "2025-01-11T15:01:18.904492Z"
    },
    "papermill": {
     "duration": 0.015917,
     "end_time": "2025-01-11T15:01:18.906262",
     "exception": false,
     "start_time": "2025-01-11T15:01:18.890345",
     "status": "completed"
    },
    "tags": []
   },
   "outputs": [],
   "source": [
    "# device = torch.device(\"cuda\" if torch.cuda.is_available() else \"cpu\")\n",
    "# print(model.device)"
   ]
  },
  {
   "cell_type": "code",
   "execution_count": 35,
   "id": "56331f0c",
   "metadata": {
    "execution": {
     "iopub.execute_input": "2025-01-11T15:01:18.930413Z",
     "iopub.status.busy": "2025-01-11T15:01:18.930201Z",
     "iopub.status.idle": "2025-01-11T15:01:18.933268Z",
     "shell.execute_reply": "2025-01-11T15:01:18.932540Z"
    },
    "papermill": {
     "duration": 0.016594,
     "end_time": "2025-01-11T15:01:18.934464",
     "exception": false,
     "start_time": "2025-01-11T15:01:18.917870",
     "status": "completed"
    },
    "tags": []
   },
   "outputs": [],
   "source": [
    "# # Training Arguments\n",
    "# from transformers import TrainingArguments, Trainer\n",
    "\n",
    "# # Define TrainingArguments and Trainer as before\n",
    "# args = TrainingArguments(\n",
    "#     per_device_train_batch_size=3,\n",
    "#     per_device_eval_batch_size=3,\n",
    "#     output_dir='./results',\n",
    "#     num_train_epochs=2,\n",
    "#     save_steps=1000,\n",
    "#     save_total_limit=2,\n",
    "#     logging_dir='./logs',\n",
    "#     logging_steps=10\n",
    "# )\n",
    "\n",
    "# trainer = Trainer(\n",
    "#     model=model,\n",
    "#     args=args,\n",
    "#     train_dataset=train_dataset,\n",
    "#     eval_dataset=val_dataset,\n",
    "#     compute_metrics=compute_metrics\n",
    "# )\n"
   ]
  },
  {
   "cell_type": "code",
   "execution_count": 36,
   "id": "2ff7e023",
   "metadata": {
    "execution": {
     "iopub.execute_input": "2025-01-11T15:01:18.958394Z",
     "iopub.status.busy": "2025-01-11T15:01:18.958136Z",
     "iopub.status.idle": "2025-01-11T15:01:18.960825Z",
     "shell.execute_reply": "2025-01-11T15:01:18.960231Z"
    },
    "papermill": {
     "duration": 0.016216,
     "end_time": "2025-01-11T15:01:18.962222",
     "exception": false,
     "start_time": "2025-01-11T15:01:18.946006",
     "status": "completed"
    },
    "tags": []
   },
   "outputs": [],
   "source": [
    "# trainer.train()"
   ]
  },
  {
   "cell_type": "code",
   "execution_count": 37,
   "id": "3dec7d52",
   "metadata": {
    "execution": {
     "iopub.execute_input": "2025-01-11T15:01:18.986892Z",
     "iopub.status.busy": "2025-01-11T15:01:18.986672Z",
     "iopub.status.idle": "2025-01-11T15:01:18.989734Z",
     "shell.execute_reply": "2025-01-11T15:01:18.989100Z"
    },
    "papermill": {
     "duration": 0.016775,
     "end_time": "2025-01-11T15:01:18.990919",
     "exception": false,
     "start_time": "2025-01-11T15:01:18.974144",
     "status": "completed"
    },
    "tags": []
   },
   "outputs": [],
   "source": [
    "# trainer.evaluate()"
   ]
  },
  {
   "cell_type": "code",
   "execution_count": 38,
   "id": "65685064",
   "metadata": {
    "execution": {
     "iopub.execute_input": "2025-01-11T15:01:19.015430Z",
     "iopub.status.busy": "2025-01-11T15:01:19.015208Z",
     "iopub.status.idle": "2025-01-11T15:01:19.022666Z",
     "shell.execute_reply": "2025-01-11T15:01:19.021767Z"
    },
    "papermill": {
     "duration": 0.020878,
     "end_time": "2025-01-11T15:01:19.024124",
     "exception": false,
     "start_time": "2025-01-11T15:01:19.003246",
     "status": "completed"
    },
    "tags": []
   },
   "outputs": [],
   "source": [
    "import torch\n",
    "from transformers import DistilBertTokenizer, AutoTokenizer\n",
    "from transformers import DistilBertForSequenceClassification, AutoModelForSequenceClassification\n",
    "from sklearn.model_selection import train_test_split\n",
    "from torch.utils.data import Dataset"
   ]
  },
  {
   "cell_type": "code",
   "execution_count": 39,
   "id": "ea004d2d",
   "metadata": {
    "execution": {
     "iopub.execute_input": "2025-01-11T15:01:19.049649Z",
     "iopub.status.busy": "2025-01-11T15:01:19.049390Z",
     "iopub.status.idle": "2025-01-11T15:01:21.999468Z",
     "shell.execute_reply": "2025-01-11T15:01:21.998494Z"
    },
    "papermill": {
     "duration": 2.964335,
     "end_time": "2025-01-11T15:01:22.000835",
     "exception": false,
     "start_time": "2025-01-11T15:01:19.036500",
     "status": "completed"
    },
    "tags": []
   },
   "outputs": [
    {
     "data": {
      "application/vnd.jupyter.widget-view+json": {
       "model_id": "7f7da106ef38424e8e50ae3e2ec4bb74",
       "version_major": 2,
       "version_minor": 0
      },
      "text/plain": [
       "tokenizer_config.json:   0%|          | 0.00/48.0 [00:00<?, ?B/s]"
      ]
     },
     "metadata": {},
     "output_type": "display_data"
    },
    {
     "data": {
      "application/vnd.jupyter.widget-view+json": {
       "model_id": "7599561191d84a179de130ee4eca9fdd",
       "version_major": 2,
       "version_minor": 0
      },
      "text/plain": [
       "vocab.txt:   0%|          | 0.00/232k [00:00<?, ?B/s]"
      ]
     },
     "metadata": {},
     "output_type": "display_data"
    },
    {
     "data": {
      "application/vnd.jupyter.widget-view+json": {
       "model_id": "54a77f9c40f64d7680e93a25cc8724aa",
       "version_major": 2,
       "version_minor": 0
      },
      "text/plain": [
       "tokenizer.json:   0%|          | 0.00/466k [00:00<?, ?B/s]"
      ]
     },
     "metadata": {},
     "output_type": "display_data"
    },
    {
     "data": {
      "application/vnd.jupyter.widget-view+json": {
       "model_id": "37277395c65441e7882d618dcf442139",
       "version_major": 2,
       "version_minor": 0
      },
      "text/plain": [
       "config.json:   0%|          | 0.00/483 [00:00<?, ?B/s]"
      ]
     },
     "metadata": {},
     "output_type": "display_data"
    },
    {
     "data": {
      "application/vnd.jupyter.widget-view+json": {
       "model_id": "5c8deacf648a4e208315dcb3d625eab9",
       "version_major": 2,
       "version_minor": 0
      },
      "text/plain": [
       "model.safetensors:   0%|          | 0.00/268M [00:00<?, ?B/s]"
      ]
     },
     "metadata": {},
     "output_type": "display_data"
    },
    {
     "name": "stderr",
     "output_type": "stream",
     "text": [
      "Some weights of DistilBertForSequenceClassification were not initialized from the model checkpoint at distilbert-base-uncased and are newly initialized: ['classifier.bias', 'classifier.weight', 'pre_classifier.bias', 'pre_classifier.weight']\n",
      "You should probably TRAIN this model on a down-stream task to be able to use it for predictions and inference.\n"
     ]
    }
   ],
   "source": [
    "checkpoint = \"distilbert-base-uncased\"\n",
    "tokenizer = DistilBertTokenizer.from_pretrained(checkpoint)\n",
    "model = DistilBertForSequenceClassification.from_pretrained(checkpoint, num_labels=2,\n",
    "                                                            problem_type=\"binary_classification\")"
   ]
  },
  {
   "cell_type": "code",
   "execution_count": 40,
   "id": "6b6f271a",
   "metadata": {
    "execution": {
     "iopub.execute_input": "2025-01-11T15:01:22.027857Z",
     "iopub.status.busy": "2025-01-11T15:01:22.027580Z",
     "iopub.status.idle": "2025-01-11T15:01:22.032902Z",
     "shell.execute_reply": "2025-01-11T15:01:22.032029Z"
    },
    "papermill": {
     "duration": 0.020074,
     "end_time": "2025-01-11T15:01:22.034270",
     "exception": false,
     "start_time": "2025-01-11T15:01:22.014196",
     "status": "completed"
    },
    "tags": []
   },
   "outputs": [],
   "source": [
    "# Lets build custom dataset\n",
    "class CustomDataset(Dataset):\n",
    "  def __init__(self, texts, labels, tokenizer, max_len=128):\n",
    "    self.texts = texts\n",
    "    self.labels = labels\n",
    "    self.tokenizer = tokenizer\n",
    "    self.max_len = max_len\n",
    "\n",
    "  def __len__(self):\n",
    "    return len(self.texts)\n",
    "\n",
    "  def __getitem__(self, idx):\n",
    "    text = str(self.texts[idx])\n",
    "    label = torch.tensor(self.labels[idx])\n",
    "\n",
    "    encoding = self.tokenizer(text, truncation=True, padding=\"max_length\", max_length=self.max_len, return_tensors='pt')\n",
    "\n",
    "    return {\n",
    "        'input_ids': encoding['input_ids'].flatten(),\n",
    "        'attention_mask': encoding['attention_mask'].flatten(),\n",
    "        'labels': label\n",
    "    }"
   ]
  },
  {
   "cell_type": "code",
   "execution_count": 41,
   "id": "07983046",
   "metadata": {
    "execution": {
     "iopub.execute_input": "2025-01-11T15:01:22.060639Z",
     "iopub.status.busy": "2025-01-11T15:01:22.060410Z",
     "iopub.status.idle": "2025-01-11T15:01:22.063816Z",
     "shell.execute_reply": "2025-01-11T15:01:22.063115Z"
    },
    "papermill": {
     "duration": 0.017812,
     "end_time": "2025-01-11T15:01:22.064943",
     "exception": false,
     "start_time": "2025-01-11T15:01:22.047131",
     "status": "completed"
    },
    "tags": []
   },
   "outputs": [],
   "source": [
    "train_dataset = CustomDataset(train_texts, train_labels, tokenizer)\n",
    "val_dataset = CustomDataset(val_texts, val_labels, tokenizer)"
   ]
  },
  {
   "cell_type": "code",
   "execution_count": 42,
   "id": "8ea05640",
   "metadata": {
    "execution": {
     "iopub.execute_input": "2025-01-11T15:01:22.090916Z",
     "iopub.status.busy": "2025-01-11T15:01:22.090707Z",
     "iopub.status.idle": "2025-01-11T15:01:22.099173Z",
     "shell.execute_reply": "2025-01-11T15:01:22.098300Z"
    },
    "papermill": {
     "duration": 0.022838,
     "end_time": "2025-01-11T15:01:22.100412",
     "exception": false,
     "start_time": "2025-01-11T15:01:22.077574",
     "status": "completed"
    },
    "tags": []
   },
   "outputs": [],
   "source": [
    "import numpy as np\n",
    "from sklearn.metrics import roc_auc_score, f1_score, hamming_loss\n",
    "from transformers import EvalPrediction\n",
    "import torch\n",
    "\n",
    "\n",
    "def binary_classification_metrics(predictions, labels, threshold=0.5):\n",
    "    sigmoid = torch.nn.Sigmoid()\n",
    "    probs = sigmoid(torch.Tensor(predictions))  # Apply Sigmoid to get probabilities\n",
    "\n",
    "    # Convert probabilities to binary predictions based on the threshold\n",
    "    y_pred = (probs >= threshold).float()\n",
    "    y_true = labels\n",
    "\n",
    "    # Calculate metrics\n",
    "    f1 = f1_score(y_true, y_pred, average='binary')  # F1 score for binary classification\n",
    "    roc_auc = roc_auc_score(y_true, y_pred)  # ROC AUC score for binary classification\n",
    "    hamming = hamming_loss(y_true, y_pred)  # Hamming loss\n",
    "\n",
    "    # Return metrics\n",
    "    metrics = {\n",
    "        \"roc_auc\": roc_auc,\n",
    "        \"hamming_loss\": hamming,\n",
    "        \"f1\": f1\n",
    "    }\n",
    "\n",
    "    return metrics\n",
    "\n",
    "\n",
    "def compute_metrics(p: EvalPrediction):\n",
    "    preds = p.predictions[0] if isinstance(p.predictions, tuple) else p.predictions\n",
    "\n",
    "    result = binary_classification_metrics(predictions=preds,\n",
    "                                           labels=p.label_ids)\n",
    "\n",
    "    return result\n"
   ]
  },
  {
   "cell_type": "code",
   "execution_count": 43,
   "id": "f973ef5d",
   "metadata": {
    "execution": {
     "iopub.execute_input": "2025-01-11T15:01:22.126780Z",
     "iopub.status.busy": "2025-01-11T15:01:22.126546Z",
     "iopub.status.idle": "2025-01-11T15:01:26.060417Z",
     "shell.execute_reply": "2025-01-11T15:01:26.059707Z"
    },
    "papermill": {
     "duration": 3.949289,
     "end_time": "2025-01-11T15:01:26.062357",
     "exception": false,
     "start_time": "2025-01-11T15:01:22.113068",
     "status": "completed"
    },
    "tags": []
   },
   "outputs": [],
   "source": [
    "# Training Arguments\n",
    "from transformers import TrainingArguments, Trainer\n",
    "\n",
    "args = TrainingArguments(\n",
    "    per_device_train_batch_size=8,\n",
    "    per_device_eval_batch_size=8,\n",
    "    output_dir = './results',\n",
    "    num_train_epochs=5,\n",
    "    save_steps=1000,\n",
    "    save_total_limit=2\n",
    ")\n",
    "\n",
    "trainer = Trainer(model=model,\n",
    "                  args=args,\n",
    "                  train_dataset=train_dataset,\n",
    "                  eval_dataset = val_dataset,\n",
    "                  compute_metrics=compute_metrics)"
   ]
  },
  {
   "cell_type": "code",
   "execution_count": 44,
   "id": "6cdb2b61",
   "metadata": {
    "execution": {
     "iopub.execute_input": "2025-01-11T15:01:26.089023Z",
     "iopub.status.busy": "2025-01-11T15:01:26.088809Z",
     "iopub.status.idle": "2025-01-11T15:01:26.091713Z",
     "shell.execute_reply": "2025-01-11T15:01:26.090988Z"
    },
    "papermill": {
     "duration": 0.017843,
     "end_time": "2025-01-11T15:01:26.093052",
     "exception": false,
     "start_time": "2025-01-11T15:01:26.075209",
     "status": "completed"
    },
    "tags": []
   },
   "outputs": [],
   "source": [
    "# trainer.train()"
   ]
  },
  {
   "cell_type": "code",
   "execution_count": 45,
   "id": "6a2aa12d",
   "metadata": {
    "execution": {
     "iopub.execute_input": "2025-01-11T15:01:26.118503Z",
     "iopub.status.busy": "2025-01-11T15:01:26.118228Z",
     "iopub.status.idle": "2025-01-11T15:01:26.121292Z",
     "shell.execute_reply": "2025-01-11T15:01:26.120564Z"
    },
    "papermill": {
     "duration": 0.01705,
     "end_time": "2025-01-11T15:01:26.122578",
     "exception": false,
     "start_time": "2025-01-11T15:01:26.105528",
     "status": "completed"
    },
    "tags": []
   },
   "outputs": [],
   "source": [
    "# trainer.evaluate()"
   ]
  }
 ],
 "metadata": {
  "kaggle": {
   "accelerator": "nvidiaTeslaT4",
   "dataSources": [
    {
     "datasetId": 6454961,
     "sourceId": 10415025,
     "sourceType": "datasetVersion"
    }
   ],
   "dockerImageVersionId": 30823,
   "isGpuEnabled": true,
   "isInternetEnabled": true,
   "language": "python",
   "sourceType": "notebook"
  },
  "kernelspec": {
   "display_name": "Python 3",
   "language": "python",
   "name": "python3"
  },
  "language_info": {
   "codemirror_mode": {
    "name": "ipython",
    "version": 3
   },
   "file_extension": ".py",
   "mimetype": "text/x-python",
   "name": "python",
   "nbconvert_exporter": "python",
   "pygments_lexer": "ipython3",
   "version": "3.10.12"
  },
  "papermill": {
   "default_parameters": {},
   "duration": 82.823631,
   "end_time": "2025-01-11T15:01:29.063544",
   "environment_variables": {},
   "exception": null,
   "input_path": "__notebook__.ipynb",
   "output_path": "__notebook__.ipynb",
   "parameters": {},
   "start_time": "2025-01-11T15:00:06.239913",
   "version": "2.6.0"
  },
  "widgets": {
   "application/vnd.jupyter.widget-state+json": {
    "state": {
     "04211a26b9f54f45b35043247ad86eed": {
      "model_module": "@jupyter-widgets/controls",
      "model_module_version": "2.0.0",
      "model_name": "HTMLStyleModel",
      "state": {
       "_model_module": "@jupyter-widgets/controls",
       "_model_module_version": "2.0.0",
       "_model_name": "HTMLStyleModel",
       "_view_count": null,
       "_view_module": "@jupyter-widgets/base",
       "_view_module_version": "2.0.0",
       "_view_name": "StyleView",
       "background": null,
       "description_width": "",
       "font_size": null,
       "text_color": null
      }
     },
     "0487706fc8504bdca43d11b4f0029076": {
      "model_module": "@jupyter-widgets/controls",
      "model_module_version": "2.0.0",
      "model_name": "HTMLModel",
      "state": {
       "_dom_classes": [],
       "_model_module": "@jupyter-widgets/controls",
       "_model_module_version": "2.0.0",
       "_model_name": "HTMLModel",
       "_view_count": null,
       "_view_module": "@jupyter-widgets/controls",
       "_view_module_version": "2.0.0",
       "_view_name": "HTMLView",
       "description": "",
       "description_allow_html": false,
       "layout": "IPY_MODEL_676704f8b77341edb48f02e0abdcfc97",
       "placeholder": "​",
       "style": "IPY_MODEL_04211a26b9f54f45b35043247ad86eed",
       "tabbable": null,
       "tooltip": null,
       "value": " 48.0/48.0 [00:00&lt;00:00, 3.80kB/s]"
      }
     },
     "09f71042741a41ceb9f9fdbef0327843": {
      "model_module": "@jupyter-widgets/base",
      "model_module_version": "2.0.0",
      "model_name": "LayoutModel",
      "state": {
       "_model_module": "@jupyter-widgets/base",
       "_model_module_version": "2.0.0",
       "_model_name": "LayoutModel",
       "_view_count": null,
       "_view_module": "@jupyter-widgets/base",
       "_view_module_version": "2.0.0",
       "_view_name": "LayoutView",
       "align_content": null,
       "align_items": null,
       "align_self": null,
       "border_bottom": null,
       "border_left": null,
       "border_right": null,
       "border_top": null,
       "bottom": null,
       "display": null,
       "flex": null,
       "flex_flow": null,
       "grid_area": null,
       "grid_auto_columns": null,
       "grid_auto_flow": null,
       "grid_auto_rows": null,
       "grid_column": null,
       "grid_gap": null,
       "grid_row": null,
       "grid_template_areas": null,
       "grid_template_columns": null,
       "grid_template_rows": null,
       "height": null,
       "justify_content": null,
       "justify_items": null,
       "left": null,
       "margin": null,
       "max_height": null,
       "max_width": null,
       "min_height": null,
       "min_width": null,
       "object_fit": null,
       "object_position": null,
       "order": null,
       "overflow": null,
       "padding": null,
       "right": null,
       "top": null,
       "visibility": null,
       "width": null
      }
     },
     "1174492d0f924eabbafa3faddb62d73d": {
      "model_module": "@jupyter-widgets/controls",
      "model_module_version": "2.0.0",
      "model_name": "HTMLStyleModel",
      "state": {
       "_model_module": "@jupyter-widgets/controls",
       "_model_module_version": "2.0.0",
       "_model_name": "HTMLStyleModel",
       "_view_count": null,
       "_view_module": "@jupyter-widgets/base",
       "_view_module_version": "2.0.0",
       "_view_name": "StyleView",
       "background": null,
       "description_width": "",
       "font_size": null,
       "text_color": null
      }
     },
     "15199f932c81450d97726cdd9debc0fe": {
      "model_module": "@jupyter-widgets/controls",
      "model_module_version": "2.0.0",
      "model_name": "ProgressStyleModel",
      "state": {
       "_model_module": "@jupyter-widgets/controls",
       "_model_module_version": "2.0.0",
       "_model_name": "ProgressStyleModel",
       "_view_count": null,
       "_view_module": "@jupyter-widgets/base",
       "_view_module_version": "2.0.0",
       "_view_name": "StyleView",
       "bar_color": null,
       "description_width": ""
      }
     },
     "1d1155a6fe8a4e75973ca6ac71a509ee": {
      "model_module": "@jupyter-widgets/base",
      "model_module_version": "2.0.0",
      "model_name": "LayoutModel",
      "state": {
       "_model_module": "@jupyter-widgets/base",
       "_model_module_version": "2.0.0",
       "_model_name": "LayoutModel",
       "_view_count": null,
       "_view_module": "@jupyter-widgets/base",
       "_view_module_version": "2.0.0",
       "_view_name": "LayoutView",
       "align_content": null,
       "align_items": null,
       "align_self": null,
       "border_bottom": null,
       "border_left": null,
       "border_right": null,
       "border_top": null,
       "bottom": null,
       "display": null,
       "flex": null,
       "flex_flow": null,
       "grid_area": null,
       "grid_auto_columns": null,
       "grid_auto_flow": null,
       "grid_auto_rows": null,
       "grid_column": null,
       "grid_gap": null,
       "grid_row": null,
       "grid_template_areas": null,
       "grid_template_columns": null,
       "grid_template_rows": null,
       "height": null,
       "justify_content": null,
       "justify_items": null,
       "left": null,
       "margin": null,
       "max_height": null,
       "max_width": null,
       "min_height": null,
       "min_width": null,
       "object_fit": null,
       "object_position": null,
       "order": null,
       "overflow": null,
       "padding": null,
       "right": null,
       "top": null,
       "visibility": null,
       "width": null
      }
     },
     "2fbdc97597984ff092e5bcfa1b6b8d45": {
      "model_module": "@jupyter-widgets/controls",
      "model_module_version": "2.0.0",
      "model_name": "FloatProgressModel",
      "state": {
       "_dom_classes": [],
       "_model_module": "@jupyter-widgets/controls",
       "_model_module_version": "2.0.0",
       "_model_name": "FloatProgressModel",
       "_view_count": null,
       "_view_module": "@jupyter-widgets/controls",
       "_view_module_version": "2.0.0",
       "_view_name": "ProgressView",
       "bar_style": "success",
       "description": "",
       "description_allow_html": false,
       "layout": "IPY_MODEL_83b873340c54459c877d6ecdedd5b252",
       "max": 231508.0,
       "min": 0.0,
       "orientation": "horizontal",
       "style": "IPY_MODEL_535b3d599767415ba10c98fdad656f03",
       "tabbable": null,
       "tooltip": null,
       "value": 231508.0
      }
     },
     "37277395c65441e7882d618dcf442139": {
      "model_module": "@jupyter-widgets/controls",
      "model_module_version": "2.0.0",
      "model_name": "HBoxModel",
      "state": {
       "_dom_classes": [],
       "_model_module": "@jupyter-widgets/controls",
       "_model_module_version": "2.0.0",
       "_model_name": "HBoxModel",
       "_view_count": null,
       "_view_module": "@jupyter-widgets/controls",
       "_view_module_version": "2.0.0",
       "_view_name": "HBoxView",
       "box_style": "",
       "children": [
        "IPY_MODEL_ae8f20b9479f47139b9086828a5663f5",
        "IPY_MODEL_95dd5eb805e045409af93f5a65b3851d",
        "IPY_MODEL_73cfd701536144539824859fe083e66a"
       ],
       "layout": "IPY_MODEL_4267681d1cf543c18f26dfbcd9f15e16",
       "tabbable": null,
       "tooltip": null
      }
     },
     "3f1c51b1970d4c8885006d93f7d1cfef": {
      "model_module": "@jupyter-widgets/controls",
      "model_module_version": "2.0.0",
      "model_name": "HTMLStyleModel",
      "state": {
       "_model_module": "@jupyter-widgets/controls",
       "_model_module_version": "2.0.0",
       "_model_name": "HTMLStyleModel",
       "_view_count": null,
       "_view_module": "@jupyter-widgets/base",
       "_view_module_version": "2.0.0",
       "_view_name": "StyleView",
       "background": null,
       "description_width": "",
       "font_size": null,
       "text_color": null
      }
     },
     "4168433268dc493da9f55c59df7f9bdf": {
      "model_module": "@jupyter-widgets/controls",
      "model_module_version": "2.0.0",
      "model_name": "HTMLModel",
      "state": {
       "_dom_classes": [],
       "_model_module": "@jupyter-widgets/controls",
       "_model_module_version": "2.0.0",
       "_model_name": "HTMLModel",
       "_view_count": null,
       "_view_module": "@jupyter-widgets/controls",
       "_view_module_version": "2.0.0",
       "_view_name": "HTMLView",
       "description": "",
       "description_allow_html": false,
       "layout": "IPY_MODEL_543fc8a3ce30449daaca1b607e524cef",
       "placeholder": "​",
       "style": "IPY_MODEL_ac2da6c5d765422382869ef3c19aa236",
       "tabbable": null,
       "tooltip": null,
       "value": "tokenizer_config.json: 100%"
      }
     },
     "4267681d1cf543c18f26dfbcd9f15e16": {
      "model_module": "@jupyter-widgets/base",
      "model_module_version": "2.0.0",
      "model_name": "LayoutModel",
      "state": {
       "_model_module": "@jupyter-widgets/base",
       "_model_module_version": "2.0.0",
       "_model_name": "LayoutModel",
       "_view_count": null,
       "_view_module": "@jupyter-widgets/base",
       "_view_module_version": "2.0.0",
       "_view_name": "LayoutView",
       "align_content": null,
       "align_items": null,
       "align_self": null,
       "border_bottom": null,
       "border_left": null,
       "border_right": null,
       "border_top": null,
       "bottom": null,
       "display": null,
       "flex": null,
       "flex_flow": null,
       "grid_area": null,
       "grid_auto_columns": null,
       "grid_auto_flow": null,
       "grid_auto_rows": null,
       "grid_column": null,
       "grid_gap": null,
       "grid_row": null,
       "grid_template_areas": null,
       "grid_template_columns": null,
       "grid_template_rows": null,
       "height": null,
       "justify_content": null,
       "justify_items": null,
       "left": null,
       "margin": null,
       "max_height": null,
       "max_width": null,
       "min_height": null,
       "min_width": null,
       "object_fit": null,
       "object_position": null,
       "order": null,
       "overflow": null,
       "padding": null,
       "right": null,
       "top": null,
       "visibility": null,
       "width": null
      }
     },
     "49c50ac82984474cb0252ad1a11fb901": {
      "model_module": "@jupyter-widgets/controls",
      "model_module_version": "2.0.0",
      "model_name": "FloatProgressModel",
      "state": {
       "_dom_classes": [],
       "_model_module": "@jupyter-widgets/controls",
       "_model_module_version": "2.0.0",
       "_model_name": "FloatProgressModel",
       "_view_count": null,
       "_view_module": "@jupyter-widgets/controls",
       "_view_module_version": "2.0.0",
       "_view_name": "ProgressView",
       "bar_style": "success",
       "description": "",
       "description_allow_html": false,
       "layout": "IPY_MODEL_98b67ca2d391484f8a5d8a0ae6ee878b",
       "max": 267954768.0,
       "min": 0.0,
       "orientation": "horizontal",
       "style": "IPY_MODEL_15199f932c81450d97726cdd9debc0fe",
       "tabbable": null,
       "tooltip": null,
       "value": 267954768.0
      }
     },
     "4adfb8fdcf75422c8b4d39b6742d3af6": {
      "model_module": "@jupyter-widgets/controls",
      "model_module_version": "2.0.0",
      "model_name": "ProgressStyleModel",
      "state": {
       "_model_module": "@jupyter-widgets/controls",
       "_model_module_version": "2.0.0",
       "_model_name": "ProgressStyleModel",
       "_view_count": null,
       "_view_module": "@jupyter-widgets/base",
       "_view_module_version": "2.0.0",
       "_view_name": "StyleView",
       "bar_color": null,
       "description_width": ""
      }
     },
     "4f00e1ca23174c0bbb6aad029b68371d": {
      "model_module": "@jupyter-widgets/controls",
      "model_module_version": "2.0.0",
      "model_name": "HTMLModel",
      "state": {
       "_dom_classes": [],
       "_model_module": "@jupyter-widgets/controls",
       "_model_module_version": "2.0.0",
       "_model_name": "HTMLModel",
       "_view_count": null,
       "_view_module": "@jupyter-widgets/controls",
       "_view_module_version": "2.0.0",
       "_view_name": "HTMLView",
       "description": "",
       "description_allow_html": false,
       "layout": "IPY_MODEL_e12b2c81d62f44579743f3e9f50bb8d0",
       "placeholder": "​",
       "style": "IPY_MODEL_b548f4e861c3441899297854ab21cdd8",
       "tabbable": null,
       "tooltip": null,
       "value": "tokenizer.json: 100%"
      }
     },
     "4faca6d5b27840129f4ef47dc39512a0": {
      "model_module": "@jupyter-widgets/base",
      "model_module_version": "2.0.0",
      "model_name": "LayoutModel",
      "state": {
       "_model_module": "@jupyter-widgets/base",
       "_model_module_version": "2.0.0",
       "_model_name": "LayoutModel",
       "_view_count": null,
       "_view_module": "@jupyter-widgets/base",
       "_view_module_version": "2.0.0",
       "_view_name": "LayoutView",
       "align_content": null,
       "align_items": null,
       "align_self": null,
       "border_bottom": null,
       "border_left": null,
       "border_right": null,
       "border_top": null,
       "bottom": null,
       "display": null,
       "flex": null,
       "flex_flow": null,
       "grid_area": null,
       "grid_auto_columns": null,
       "grid_auto_flow": null,
       "grid_auto_rows": null,
       "grid_column": null,
       "grid_gap": null,
       "grid_row": null,
       "grid_template_areas": null,
       "grid_template_columns": null,
       "grid_template_rows": null,
       "height": null,
       "justify_content": null,
       "justify_items": null,
       "left": null,
       "margin": null,
       "max_height": null,
       "max_width": null,
       "min_height": null,
       "min_width": null,
       "object_fit": null,
       "object_position": null,
       "order": null,
       "overflow": null,
       "padding": null,
       "right": null,
       "top": null,
       "visibility": null,
       "width": null
      }
     },
     "535b3d599767415ba10c98fdad656f03": {
      "model_module": "@jupyter-widgets/controls",
      "model_module_version": "2.0.0",
      "model_name": "ProgressStyleModel",
      "state": {
       "_model_module": "@jupyter-widgets/controls",
       "_model_module_version": "2.0.0",
       "_model_name": "ProgressStyleModel",
       "_view_count": null,
       "_view_module": "@jupyter-widgets/base",
       "_view_module_version": "2.0.0",
       "_view_name": "StyleView",
       "bar_color": null,
       "description_width": ""
      }
     },
     "543fc8a3ce30449daaca1b607e524cef": {
      "model_module": "@jupyter-widgets/base",
      "model_module_version": "2.0.0",
      "model_name": "LayoutModel",
      "state": {
       "_model_module": "@jupyter-widgets/base",
       "_model_module_version": "2.0.0",
       "_model_name": "LayoutModel",
       "_view_count": null,
       "_view_module": "@jupyter-widgets/base",
       "_view_module_version": "2.0.0",
       "_view_name": "LayoutView",
       "align_content": null,
       "align_items": null,
       "align_self": null,
       "border_bottom": null,
       "border_left": null,
       "border_right": null,
       "border_top": null,
       "bottom": null,
       "display": null,
       "flex": null,
       "flex_flow": null,
       "grid_area": null,
       "grid_auto_columns": null,
       "grid_auto_flow": null,
       "grid_auto_rows": null,
       "grid_column": null,
       "grid_gap": null,
       "grid_row": null,
       "grid_template_areas": null,
       "grid_template_columns": null,
       "grid_template_rows": null,
       "height": null,
       "justify_content": null,
       "justify_items": null,
       "left": null,
       "margin": null,
       "max_height": null,
       "max_width": null,
       "min_height": null,
       "min_width": null,
       "object_fit": null,
       "object_position": null,
       "order": null,
       "overflow": null,
       "padding": null,
       "right": null,
       "top": null,
       "visibility": null,
       "width": null
      }
     },
     "54a77f9c40f64d7680e93a25cc8724aa": {
      "model_module": "@jupyter-widgets/controls",
      "model_module_version": "2.0.0",
      "model_name": "HBoxModel",
      "state": {
       "_dom_classes": [],
       "_model_module": "@jupyter-widgets/controls",
       "_model_module_version": "2.0.0",
       "_model_name": "HBoxModel",
       "_view_count": null,
       "_view_module": "@jupyter-widgets/controls",
       "_view_module_version": "2.0.0",
       "_view_name": "HBoxView",
       "box_style": "",
       "children": [
        "IPY_MODEL_4f00e1ca23174c0bbb6aad029b68371d",
        "IPY_MODEL_83b59b0d3719442ba3c1bf48a3bbc18c",
        "IPY_MODEL_e7f62ff950f644049b1e13159ea8fe1b"
       ],
       "layout": "IPY_MODEL_ee131dcb77244c4f9d6af2d369824ae5",
       "tabbable": null,
       "tooltip": null
      }
     },
     "5a00820cd4f24c548fdf63ee6c401a29": {
      "model_module": "@jupyter-widgets/controls",
      "model_module_version": "2.0.0",
      "model_name": "ProgressStyleModel",
      "state": {
       "_model_module": "@jupyter-widgets/controls",
       "_model_module_version": "2.0.0",
       "_model_name": "ProgressStyleModel",
       "_view_count": null,
       "_view_module": "@jupyter-widgets/base",
       "_view_module_version": "2.0.0",
       "_view_name": "StyleView",
       "bar_color": null,
       "description_width": ""
      }
     },
     "5a412327e8b24b27b8764fc709a0e54f": {
      "model_module": "@jupyter-widgets/base",
      "model_module_version": "2.0.0",
      "model_name": "LayoutModel",
      "state": {
       "_model_module": "@jupyter-widgets/base",
       "_model_module_version": "2.0.0",
       "_model_name": "LayoutModel",
       "_view_count": null,
       "_view_module": "@jupyter-widgets/base",
       "_view_module_version": "2.0.0",
       "_view_name": "LayoutView",
       "align_content": null,
       "align_items": null,
       "align_self": null,
       "border_bottom": null,
       "border_left": null,
       "border_right": null,
       "border_top": null,
       "bottom": null,
       "display": null,
       "flex": null,
       "flex_flow": null,
       "grid_area": null,
       "grid_auto_columns": null,
       "grid_auto_flow": null,
       "grid_auto_rows": null,
       "grid_column": null,
       "grid_gap": null,
       "grid_row": null,
       "grid_template_areas": null,
       "grid_template_columns": null,
       "grid_template_rows": null,
       "height": null,
       "justify_content": null,
       "justify_items": null,
       "left": null,
       "margin": null,
       "max_height": null,
       "max_width": null,
       "min_height": null,
       "min_width": null,
       "object_fit": null,
       "object_position": null,
       "order": null,
       "overflow": null,
       "padding": null,
       "right": null,
       "top": null,
       "visibility": null,
       "width": null
      }
     },
     "5c8deacf648a4e208315dcb3d625eab9": {
      "model_module": "@jupyter-widgets/controls",
      "model_module_version": "2.0.0",
      "model_name": "HBoxModel",
      "state": {
       "_dom_classes": [],
       "_model_module": "@jupyter-widgets/controls",
       "_model_module_version": "2.0.0",
       "_model_name": "HBoxModel",
       "_view_count": null,
       "_view_module": "@jupyter-widgets/controls",
       "_view_module_version": "2.0.0",
       "_view_name": "HBoxView",
       "box_style": "",
       "children": [
        "IPY_MODEL_d735adcda3b0416d9bd48f9a93d6e9c9",
        "IPY_MODEL_49c50ac82984474cb0252ad1a11fb901",
        "IPY_MODEL_e7e665d9edb64e42ad6cd14016abc6fb"
       ],
       "layout": "IPY_MODEL_7b3f1fb482de43aaaa95178eb5fa157c",
       "tabbable": null,
       "tooltip": null
      }
     },
     "5cb6c4bd6fa843fcb06522ed69867d9e": {
      "model_module": "@jupyter-widgets/controls",
      "model_module_version": "2.0.0",
      "model_name": "HTMLStyleModel",
      "state": {
       "_model_module": "@jupyter-widgets/controls",
       "_model_module_version": "2.0.0",
       "_model_name": "HTMLStyleModel",
       "_view_count": null,
       "_view_module": "@jupyter-widgets/base",
       "_view_module_version": "2.0.0",
       "_view_name": "StyleView",
       "background": null,
       "description_width": "",
       "font_size": null,
       "text_color": null
      }
     },
     "676704f8b77341edb48f02e0abdcfc97": {
      "model_module": "@jupyter-widgets/base",
      "model_module_version": "2.0.0",
      "model_name": "LayoutModel",
      "state": {
       "_model_module": "@jupyter-widgets/base",
       "_model_module_version": "2.0.0",
       "_model_name": "LayoutModel",
       "_view_count": null,
       "_view_module": "@jupyter-widgets/base",
       "_view_module_version": "2.0.0",
       "_view_name": "LayoutView",
       "align_content": null,
       "align_items": null,
       "align_self": null,
       "border_bottom": null,
       "border_left": null,
       "border_right": null,
       "border_top": null,
       "bottom": null,
       "display": null,
       "flex": null,
       "flex_flow": null,
       "grid_area": null,
       "grid_auto_columns": null,
       "grid_auto_flow": null,
       "grid_auto_rows": null,
       "grid_column": null,
       "grid_gap": null,
       "grid_row": null,
       "grid_template_areas": null,
       "grid_template_columns": null,
       "grid_template_rows": null,
       "height": null,
       "justify_content": null,
       "justify_items": null,
       "left": null,
       "margin": null,
       "max_height": null,
       "max_width": null,
       "min_height": null,
       "min_width": null,
       "object_fit": null,
       "object_position": null,
       "order": null,
       "overflow": null,
       "padding": null,
       "right": null,
       "top": null,
       "visibility": null,
       "width": null
      }
     },
     "6f7ea2abb1014d218fe548f7da8242a5": {
      "model_module": "@jupyter-widgets/base",
      "model_module_version": "2.0.0",
      "model_name": "LayoutModel",
      "state": {
       "_model_module": "@jupyter-widgets/base",
       "_model_module_version": "2.0.0",
       "_model_name": "LayoutModel",
       "_view_count": null,
       "_view_module": "@jupyter-widgets/base",
       "_view_module_version": "2.0.0",
       "_view_name": "LayoutView",
       "align_content": null,
       "align_items": null,
       "align_self": null,
       "border_bottom": null,
       "border_left": null,
       "border_right": null,
       "border_top": null,
       "bottom": null,
       "display": null,
       "flex": null,
       "flex_flow": null,
       "grid_area": null,
       "grid_auto_columns": null,
       "grid_auto_flow": null,
       "grid_auto_rows": null,
       "grid_column": null,
       "grid_gap": null,
       "grid_row": null,
       "grid_template_areas": null,
       "grid_template_columns": null,
       "grid_template_rows": null,
       "height": null,
       "justify_content": null,
       "justify_items": null,
       "left": null,
       "margin": null,
       "max_height": null,
       "max_width": null,
       "min_height": null,
       "min_width": null,
       "object_fit": null,
       "object_position": null,
       "order": null,
       "overflow": null,
       "padding": null,
       "right": null,
       "top": null,
       "visibility": null,
       "width": null
      }
     },
     "73cfd701536144539824859fe083e66a": {
      "model_module": "@jupyter-widgets/controls",
      "model_module_version": "2.0.0",
      "model_name": "HTMLModel",
      "state": {
       "_dom_classes": [],
       "_model_module": "@jupyter-widgets/controls",
       "_model_module_version": "2.0.0",
       "_model_name": "HTMLModel",
       "_view_count": null,
       "_view_module": "@jupyter-widgets/controls",
       "_view_module_version": "2.0.0",
       "_view_name": "HTMLView",
       "description": "",
       "description_allow_html": false,
       "layout": "IPY_MODEL_c6accac54945474483a74a6f02a38042",
       "placeholder": "​",
       "style": "IPY_MODEL_c952632b856945b8b484a8cd0a7853eb",
       "tabbable": null,
       "tooltip": null,
       "value": " 483/483 [00:00&lt;00:00, 40.8kB/s]"
      }
     },
     "7599561191d84a179de130ee4eca9fdd": {
      "model_module": "@jupyter-widgets/controls",
      "model_module_version": "2.0.0",
      "model_name": "HBoxModel",
      "state": {
       "_dom_classes": [],
       "_model_module": "@jupyter-widgets/controls",
       "_model_module_version": "2.0.0",
       "_model_name": "HBoxModel",
       "_view_count": null,
       "_view_module": "@jupyter-widgets/controls",
       "_view_module_version": "2.0.0",
       "_view_name": "HBoxView",
       "box_style": "",
       "children": [
        "IPY_MODEL_e8772ceeee4142ff98a0336614e13440",
        "IPY_MODEL_2fbdc97597984ff092e5bcfa1b6b8d45",
        "IPY_MODEL_a67e7e66777841ef96a3c908c639f316"
       ],
       "layout": "IPY_MODEL_c242479ce74147a5a897fc8df9c05edf",
       "tabbable": null,
       "tooltip": null
      }
     },
     "7b3f1fb482de43aaaa95178eb5fa157c": {
      "model_module": "@jupyter-widgets/base",
      "model_module_version": "2.0.0",
      "model_name": "LayoutModel",
      "state": {
       "_model_module": "@jupyter-widgets/base",
       "_model_module_version": "2.0.0",
       "_model_name": "LayoutModel",
       "_view_count": null,
       "_view_module": "@jupyter-widgets/base",
       "_view_module_version": "2.0.0",
       "_view_name": "LayoutView",
       "align_content": null,
       "align_items": null,
       "align_self": null,
       "border_bottom": null,
       "border_left": null,
       "border_right": null,
       "border_top": null,
       "bottom": null,
       "display": null,
       "flex": null,
       "flex_flow": null,
       "grid_area": null,
       "grid_auto_columns": null,
       "grid_auto_flow": null,
       "grid_auto_rows": null,
       "grid_column": null,
       "grid_gap": null,
       "grid_row": null,
       "grid_template_areas": null,
       "grid_template_columns": null,
       "grid_template_rows": null,
       "height": null,
       "justify_content": null,
       "justify_items": null,
       "left": null,
       "margin": null,
       "max_height": null,
       "max_width": null,
       "min_height": null,
       "min_width": null,
       "object_fit": null,
       "object_position": null,
       "order": null,
       "overflow": null,
       "padding": null,
       "right": null,
       "top": null,
       "visibility": null,
       "width": null
      }
     },
     "7f7da106ef38424e8e50ae3e2ec4bb74": {
      "model_module": "@jupyter-widgets/controls",
      "model_module_version": "2.0.0",
      "model_name": "HBoxModel",
      "state": {
       "_dom_classes": [],
       "_model_module": "@jupyter-widgets/controls",
       "_model_module_version": "2.0.0",
       "_model_name": "HBoxModel",
       "_view_count": null,
       "_view_module": "@jupyter-widgets/controls",
       "_view_module_version": "2.0.0",
       "_view_name": "HBoxView",
       "box_style": "",
       "children": [
        "IPY_MODEL_4168433268dc493da9f55c59df7f9bdf",
        "IPY_MODEL_9e4bd6122e524891a7fa680523c6a99b",
        "IPY_MODEL_0487706fc8504bdca43d11b4f0029076"
       ],
       "layout": "IPY_MODEL_a76ea1bce006419ea49649559514eb36",
       "tabbable": null,
       "tooltip": null
      }
     },
     "7fbe14fdda9a4c5383fbaed9f3d25af4": {
      "model_module": "@jupyter-widgets/controls",
      "model_module_version": "2.0.0",
      "model_name": "HTMLStyleModel",
      "state": {
       "_model_module": "@jupyter-widgets/controls",
       "_model_module_version": "2.0.0",
       "_model_name": "HTMLStyleModel",
       "_view_count": null,
       "_view_module": "@jupyter-widgets/base",
       "_view_module_version": "2.0.0",
       "_view_name": "StyleView",
       "background": null,
       "description_width": "",
       "font_size": null,
       "text_color": null
      }
     },
     "83b59b0d3719442ba3c1bf48a3bbc18c": {
      "model_module": "@jupyter-widgets/controls",
      "model_module_version": "2.0.0",
      "model_name": "FloatProgressModel",
      "state": {
       "_dom_classes": [],
       "_model_module": "@jupyter-widgets/controls",
       "_model_module_version": "2.0.0",
       "_model_name": "FloatProgressModel",
       "_view_count": null,
       "_view_module": "@jupyter-widgets/controls",
       "_view_module_version": "2.0.0",
       "_view_name": "ProgressView",
       "bar_style": "success",
       "description": "",
       "description_allow_html": false,
       "layout": "IPY_MODEL_5a412327e8b24b27b8764fc709a0e54f",
       "max": 466062.0,
       "min": 0.0,
       "orientation": "horizontal",
       "style": "IPY_MODEL_5a00820cd4f24c548fdf63ee6c401a29",
       "tabbable": null,
       "tooltip": null,
       "value": 466062.0
      }
     },
     "83b873340c54459c877d6ecdedd5b252": {
      "model_module": "@jupyter-widgets/base",
      "model_module_version": "2.0.0",
      "model_name": "LayoutModel",
      "state": {
       "_model_module": "@jupyter-widgets/base",
       "_model_module_version": "2.0.0",
       "_model_name": "LayoutModel",
       "_view_count": null,
       "_view_module": "@jupyter-widgets/base",
       "_view_module_version": "2.0.0",
       "_view_name": "LayoutView",
       "align_content": null,
       "align_items": null,
       "align_self": null,
       "border_bottom": null,
       "border_left": null,
       "border_right": null,
       "border_top": null,
       "bottom": null,
       "display": null,
       "flex": null,
       "flex_flow": null,
       "grid_area": null,
       "grid_auto_columns": null,
       "grid_auto_flow": null,
       "grid_auto_rows": null,
       "grid_column": null,
       "grid_gap": null,
       "grid_row": null,
       "grid_template_areas": null,
       "grid_template_columns": null,
       "grid_template_rows": null,
       "height": null,
       "justify_content": null,
       "justify_items": null,
       "left": null,
       "margin": null,
       "max_height": null,
       "max_width": null,
       "min_height": null,
       "min_width": null,
       "object_fit": null,
       "object_position": null,
       "order": null,
       "overflow": null,
       "padding": null,
       "right": null,
       "top": null,
       "visibility": null,
       "width": null
      }
     },
     "95dd5eb805e045409af93f5a65b3851d": {
      "model_module": "@jupyter-widgets/controls",
      "model_module_version": "2.0.0",
      "model_name": "FloatProgressModel",
      "state": {
       "_dom_classes": [],
       "_model_module": "@jupyter-widgets/controls",
       "_model_module_version": "2.0.0",
       "_model_name": "FloatProgressModel",
       "_view_count": null,
       "_view_module": "@jupyter-widgets/controls",
       "_view_module_version": "2.0.0",
       "_view_name": "ProgressView",
       "bar_style": "success",
       "description": "",
       "description_allow_html": false,
       "layout": "IPY_MODEL_cfb486a359f54236b6759a3e55be0add",
       "max": 483.0,
       "min": 0.0,
       "orientation": "horizontal",
       "style": "IPY_MODEL_4adfb8fdcf75422c8b4d39b6742d3af6",
       "tabbable": null,
       "tooltip": null,
       "value": 483.0
      }
     },
     "98b67ca2d391484f8a5d8a0ae6ee878b": {
      "model_module": "@jupyter-widgets/base",
      "model_module_version": "2.0.0",
      "model_name": "LayoutModel",
      "state": {
       "_model_module": "@jupyter-widgets/base",
       "_model_module_version": "2.0.0",
       "_model_name": "LayoutModel",
       "_view_count": null,
       "_view_module": "@jupyter-widgets/base",
       "_view_module_version": "2.0.0",
       "_view_name": "LayoutView",
       "align_content": null,
       "align_items": null,
       "align_self": null,
       "border_bottom": null,
       "border_left": null,
       "border_right": null,
       "border_top": null,
       "bottom": null,
       "display": null,
       "flex": null,
       "flex_flow": null,
       "grid_area": null,
       "grid_auto_columns": null,
       "grid_auto_flow": null,
       "grid_auto_rows": null,
       "grid_column": null,
       "grid_gap": null,
       "grid_row": null,
       "grid_template_areas": null,
       "grid_template_columns": null,
       "grid_template_rows": null,
       "height": null,
       "justify_content": null,
       "justify_items": null,
       "left": null,
       "margin": null,
       "max_height": null,
       "max_width": null,
       "min_height": null,
       "min_width": null,
       "object_fit": null,
       "object_position": null,
       "order": null,
       "overflow": null,
       "padding": null,
       "right": null,
       "top": null,
       "visibility": null,
       "width": null
      }
     },
     "9e4bd6122e524891a7fa680523c6a99b": {
      "model_module": "@jupyter-widgets/controls",
      "model_module_version": "2.0.0",
      "model_name": "FloatProgressModel",
      "state": {
       "_dom_classes": [],
       "_model_module": "@jupyter-widgets/controls",
       "_model_module_version": "2.0.0",
       "_model_name": "FloatProgressModel",
       "_view_count": null,
       "_view_module": "@jupyter-widgets/controls",
       "_view_module_version": "2.0.0",
       "_view_name": "ProgressView",
       "bar_style": "success",
       "description": "",
       "description_allow_html": false,
       "layout": "IPY_MODEL_09f71042741a41ceb9f9fdbef0327843",
       "max": 48.0,
       "min": 0.0,
       "orientation": "horizontal",
       "style": "IPY_MODEL_c583f10743c54dd5bdf83ed85865d3f2",
       "tabbable": null,
       "tooltip": null,
       "value": 48.0
      }
     },
     "a2912ee1fc684892883c51eef38785da": {
      "model_module": "@jupyter-widgets/controls",
      "model_module_version": "2.0.0",
      "model_name": "HTMLStyleModel",
      "state": {
       "_model_module": "@jupyter-widgets/controls",
       "_model_module_version": "2.0.0",
       "_model_name": "HTMLStyleModel",
       "_view_count": null,
       "_view_module": "@jupyter-widgets/base",
       "_view_module_version": "2.0.0",
       "_view_name": "StyleView",
       "background": null,
       "description_width": "",
       "font_size": null,
       "text_color": null
      }
     },
     "a45824d6cb5248b7819382f4d2dde5ad": {
      "model_module": "@jupyter-widgets/base",
      "model_module_version": "2.0.0",
      "model_name": "LayoutModel",
      "state": {
       "_model_module": "@jupyter-widgets/base",
       "_model_module_version": "2.0.0",
       "_model_name": "LayoutModel",
       "_view_count": null,
       "_view_module": "@jupyter-widgets/base",
       "_view_module_version": "2.0.0",
       "_view_name": "LayoutView",
       "align_content": null,
       "align_items": null,
       "align_self": null,
       "border_bottom": null,
       "border_left": null,
       "border_right": null,
       "border_top": null,
       "bottom": null,
       "display": null,
       "flex": null,
       "flex_flow": null,
       "grid_area": null,
       "grid_auto_columns": null,
       "grid_auto_flow": null,
       "grid_auto_rows": null,
       "grid_column": null,
       "grid_gap": null,
       "grid_row": null,
       "grid_template_areas": null,
       "grid_template_columns": null,
       "grid_template_rows": null,
       "height": null,
       "justify_content": null,
       "justify_items": null,
       "left": null,
       "margin": null,
       "max_height": null,
       "max_width": null,
       "min_height": null,
       "min_width": null,
       "object_fit": null,
       "object_position": null,
       "order": null,
       "overflow": null,
       "padding": null,
       "right": null,
       "top": null,
       "visibility": null,
       "width": null
      }
     },
     "a67e7e66777841ef96a3c908c639f316": {
      "model_module": "@jupyter-widgets/controls",
      "model_module_version": "2.0.0",
      "model_name": "HTMLModel",
      "state": {
       "_dom_classes": [],
       "_model_module": "@jupyter-widgets/controls",
       "_model_module_version": "2.0.0",
       "_model_name": "HTMLModel",
       "_view_count": null,
       "_view_module": "@jupyter-widgets/controls",
       "_view_module_version": "2.0.0",
       "_view_name": "HTMLView",
       "description": "",
       "description_allow_html": false,
       "layout": "IPY_MODEL_6f7ea2abb1014d218fe548f7da8242a5",
       "placeholder": "​",
       "style": "IPY_MODEL_1174492d0f924eabbafa3faddb62d73d",
       "tabbable": null,
       "tooltip": null,
       "value": " 232k/232k [00:00&lt;00:00, 7.19MB/s]"
      }
     },
     "a76ea1bce006419ea49649559514eb36": {
      "model_module": "@jupyter-widgets/base",
      "model_module_version": "2.0.0",
      "model_name": "LayoutModel",
      "state": {
       "_model_module": "@jupyter-widgets/base",
       "_model_module_version": "2.0.0",
       "_model_name": "LayoutModel",
       "_view_count": null,
       "_view_module": "@jupyter-widgets/base",
       "_view_module_version": "2.0.0",
       "_view_name": "LayoutView",
       "align_content": null,
       "align_items": null,
       "align_self": null,
       "border_bottom": null,
       "border_left": null,
       "border_right": null,
       "border_top": null,
       "bottom": null,
       "display": null,
       "flex": null,
       "flex_flow": null,
       "grid_area": null,
       "grid_auto_columns": null,
       "grid_auto_flow": null,
       "grid_auto_rows": null,
       "grid_column": null,
       "grid_gap": null,
       "grid_row": null,
       "grid_template_areas": null,
       "grid_template_columns": null,
       "grid_template_rows": null,
       "height": null,
       "justify_content": null,
       "justify_items": null,
       "left": null,
       "margin": null,
       "max_height": null,
       "max_width": null,
       "min_height": null,
       "min_width": null,
       "object_fit": null,
       "object_position": null,
       "order": null,
       "overflow": null,
       "padding": null,
       "right": null,
       "top": null,
       "visibility": null,
       "width": null
      }
     },
     "a7a9fd3c4cf141119b5f13f12cd554d2": {
      "model_module": "@jupyter-widgets/base",
      "model_module_version": "2.0.0",
      "model_name": "LayoutModel",
      "state": {
       "_model_module": "@jupyter-widgets/base",
       "_model_module_version": "2.0.0",
       "_model_name": "LayoutModel",
       "_view_count": null,
       "_view_module": "@jupyter-widgets/base",
       "_view_module_version": "2.0.0",
       "_view_name": "LayoutView",
       "align_content": null,
       "align_items": null,
       "align_self": null,
       "border_bottom": null,
       "border_left": null,
       "border_right": null,
       "border_top": null,
       "bottom": null,
       "display": null,
       "flex": null,
       "flex_flow": null,
       "grid_area": null,
       "grid_auto_columns": null,
       "grid_auto_flow": null,
       "grid_auto_rows": null,
       "grid_column": null,
       "grid_gap": null,
       "grid_row": null,
       "grid_template_areas": null,
       "grid_template_columns": null,
       "grid_template_rows": null,
       "height": null,
       "justify_content": null,
       "justify_items": null,
       "left": null,
       "margin": null,
       "max_height": null,
       "max_width": null,
       "min_height": null,
       "min_width": null,
       "object_fit": null,
       "object_position": null,
       "order": null,
       "overflow": null,
       "padding": null,
       "right": null,
       "top": null,
       "visibility": null,
       "width": null
      }
     },
     "ac2da6c5d765422382869ef3c19aa236": {
      "model_module": "@jupyter-widgets/controls",
      "model_module_version": "2.0.0",
      "model_name": "HTMLStyleModel",
      "state": {
       "_model_module": "@jupyter-widgets/controls",
       "_model_module_version": "2.0.0",
       "_model_name": "HTMLStyleModel",
       "_view_count": null,
       "_view_module": "@jupyter-widgets/base",
       "_view_module_version": "2.0.0",
       "_view_name": "StyleView",
       "background": null,
       "description_width": "",
       "font_size": null,
       "text_color": null
      }
     },
     "ae8f20b9479f47139b9086828a5663f5": {
      "model_module": "@jupyter-widgets/controls",
      "model_module_version": "2.0.0",
      "model_name": "HTMLModel",
      "state": {
       "_dom_classes": [],
       "_model_module": "@jupyter-widgets/controls",
       "_model_module_version": "2.0.0",
       "_model_name": "HTMLModel",
       "_view_count": null,
       "_view_module": "@jupyter-widgets/controls",
       "_view_module_version": "2.0.0",
       "_view_name": "HTMLView",
       "description": "",
       "description_allow_html": false,
       "layout": "IPY_MODEL_f71ee8ab47f9439680011833dc466e70",
       "placeholder": "​",
       "style": "IPY_MODEL_7fbe14fdda9a4c5383fbaed9f3d25af4",
       "tabbable": null,
       "tooltip": null,
       "value": "config.json: 100%"
      }
     },
     "b548f4e861c3441899297854ab21cdd8": {
      "model_module": "@jupyter-widgets/controls",
      "model_module_version": "2.0.0",
      "model_name": "HTMLStyleModel",
      "state": {
       "_model_module": "@jupyter-widgets/controls",
       "_model_module_version": "2.0.0",
       "_model_name": "HTMLStyleModel",
       "_view_count": null,
       "_view_module": "@jupyter-widgets/base",
       "_view_module_version": "2.0.0",
       "_view_name": "StyleView",
       "background": null,
       "description_width": "",
       "font_size": null,
       "text_color": null
      }
     },
     "b656f47f8ffe4ca99c05babff93e9e2f": {
      "model_module": "@jupyter-widgets/controls",
      "model_module_version": "2.0.0",
      "model_name": "HTMLStyleModel",
      "state": {
       "_model_module": "@jupyter-widgets/controls",
       "_model_module_version": "2.0.0",
       "_model_name": "HTMLStyleModel",
       "_view_count": null,
       "_view_module": "@jupyter-widgets/base",
       "_view_module_version": "2.0.0",
       "_view_name": "StyleView",
       "background": null,
       "description_width": "",
       "font_size": null,
       "text_color": null
      }
     },
     "c242479ce74147a5a897fc8df9c05edf": {
      "model_module": "@jupyter-widgets/base",
      "model_module_version": "2.0.0",
      "model_name": "LayoutModel",
      "state": {
       "_model_module": "@jupyter-widgets/base",
       "_model_module_version": "2.0.0",
       "_model_name": "LayoutModel",
       "_view_count": null,
       "_view_module": "@jupyter-widgets/base",
       "_view_module_version": "2.0.0",
       "_view_name": "LayoutView",
       "align_content": null,
       "align_items": null,
       "align_self": null,
       "border_bottom": null,
       "border_left": null,
       "border_right": null,
       "border_top": null,
       "bottom": null,
       "display": null,
       "flex": null,
       "flex_flow": null,
       "grid_area": null,
       "grid_auto_columns": null,
       "grid_auto_flow": null,
       "grid_auto_rows": null,
       "grid_column": null,
       "grid_gap": null,
       "grid_row": null,
       "grid_template_areas": null,
       "grid_template_columns": null,
       "grid_template_rows": null,
       "height": null,
       "justify_content": null,
       "justify_items": null,
       "left": null,
       "margin": null,
       "max_height": null,
       "max_width": null,
       "min_height": null,
       "min_width": null,
       "object_fit": null,
       "object_position": null,
       "order": null,
       "overflow": null,
       "padding": null,
       "right": null,
       "top": null,
       "visibility": null,
       "width": null
      }
     },
     "c583f10743c54dd5bdf83ed85865d3f2": {
      "model_module": "@jupyter-widgets/controls",
      "model_module_version": "2.0.0",
      "model_name": "ProgressStyleModel",
      "state": {
       "_model_module": "@jupyter-widgets/controls",
       "_model_module_version": "2.0.0",
       "_model_name": "ProgressStyleModel",
       "_view_count": null,
       "_view_module": "@jupyter-widgets/base",
       "_view_module_version": "2.0.0",
       "_view_name": "StyleView",
       "bar_color": null,
       "description_width": ""
      }
     },
     "c6accac54945474483a74a6f02a38042": {
      "model_module": "@jupyter-widgets/base",
      "model_module_version": "2.0.0",
      "model_name": "LayoutModel",
      "state": {
       "_model_module": "@jupyter-widgets/base",
       "_model_module_version": "2.0.0",
       "_model_name": "LayoutModel",
       "_view_count": null,
       "_view_module": "@jupyter-widgets/base",
       "_view_module_version": "2.0.0",
       "_view_name": "LayoutView",
       "align_content": null,
       "align_items": null,
       "align_self": null,
       "border_bottom": null,
       "border_left": null,
       "border_right": null,
       "border_top": null,
       "bottom": null,
       "display": null,
       "flex": null,
       "flex_flow": null,
       "grid_area": null,
       "grid_auto_columns": null,
       "grid_auto_flow": null,
       "grid_auto_rows": null,
       "grid_column": null,
       "grid_gap": null,
       "grid_row": null,
       "grid_template_areas": null,
       "grid_template_columns": null,
       "grid_template_rows": null,
       "height": null,
       "justify_content": null,
       "justify_items": null,
       "left": null,
       "margin": null,
       "max_height": null,
       "max_width": null,
       "min_height": null,
       "min_width": null,
       "object_fit": null,
       "object_position": null,
       "order": null,
       "overflow": null,
       "padding": null,
       "right": null,
       "top": null,
       "visibility": null,
       "width": null
      }
     },
     "c952632b856945b8b484a8cd0a7853eb": {
      "model_module": "@jupyter-widgets/controls",
      "model_module_version": "2.0.0",
      "model_name": "HTMLStyleModel",
      "state": {
       "_model_module": "@jupyter-widgets/controls",
       "_model_module_version": "2.0.0",
       "_model_name": "HTMLStyleModel",
       "_view_count": null,
       "_view_module": "@jupyter-widgets/base",
       "_view_module_version": "2.0.0",
       "_view_name": "StyleView",
       "background": null,
       "description_width": "",
       "font_size": null,
       "text_color": null
      }
     },
     "cfb486a359f54236b6759a3e55be0add": {
      "model_module": "@jupyter-widgets/base",
      "model_module_version": "2.0.0",
      "model_name": "LayoutModel",
      "state": {
       "_model_module": "@jupyter-widgets/base",
       "_model_module_version": "2.0.0",
       "_model_name": "LayoutModel",
       "_view_count": null,
       "_view_module": "@jupyter-widgets/base",
       "_view_module_version": "2.0.0",
       "_view_name": "LayoutView",
       "align_content": null,
       "align_items": null,
       "align_self": null,
       "border_bottom": null,
       "border_left": null,
       "border_right": null,
       "border_top": null,
       "bottom": null,
       "display": null,
       "flex": null,
       "flex_flow": null,
       "grid_area": null,
       "grid_auto_columns": null,
       "grid_auto_flow": null,
       "grid_auto_rows": null,
       "grid_column": null,
       "grid_gap": null,
       "grid_row": null,
       "grid_template_areas": null,
       "grid_template_columns": null,
       "grid_template_rows": null,
       "height": null,
       "justify_content": null,
       "justify_items": null,
       "left": null,
       "margin": null,
       "max_height": null,
       "max_width": null,
       "min_height": null,
       "min_width": null,
       "object_fit": null,
       "object_position": null,
       "order": null,
       "overflow": null,
       "padding": null,
       "right": null,
       "top": null,
       "visibility": null,
       "width": null
      }
     },
     "d735adcda3b0416d9bd48f9a93d6e9c9": {
      "model_module": "@jupyter-widgets/controls",
      "model_module_version": "2.0.0",
      "model_name": "HTMLModel",
      "state": {
       "_dom_classes": [],
       "_model_module": "@jupyter-widgets/controls",
       "_model_module_version": "2.0.0",
       "_model_name": "HTMLModel",
       "_view_count": null,
       "_view_module": "@jupyter-widgets/controls",
       "_view_module_version": "2.0.0",
       "_view_name": "HTMLView",
       "description": "",
       "description_allow_html": false,
       "layout": "IPY_MODEL_1d1155a6fe8a4e75973ca6ac71a509ee",
       "placeholder": "​",
       "style": "IPY_MODEL_b656f47f8ffe4ca99c05babff93e9e2f",
       "tabbable": null,
       "tooltip": null,
       "value": "model.safetensors: 100%"
      }
     },
     "e12b2c81d62f44579743f3e9f50bb8d0": {
      "model_module": "@jupyter-widgets/base",
      "model_module_version": "2.0.0",
      "model_name": "LayoutModel",
      "state": {
       "_model_module": "@jupyter-widgets/base",
       "_model_module_version": "2.0.0",
       "_model_name": "LayoutModel",
       "_view_count": null,
       "_view_module": "@jupyter-widgets/base",
       "_view_module_version": "2.0.0",
       "_view_name": "LayoutView",
       "align_content": null,
       "align_items": null,
       "align_self": null,
       "border_bottom": null,
       "border_left": null,
       "border_right": null,
       "border_top": null,
       "bottom": null,
       "display": null,
       "flex": null,
       "flex_flow": null,
       "grid_area": null,
       "grid_auto_columns": null,
       "grid_auto_flow": null,
       "grid_auto_rows": null,
       "grid_column": null,
       "grid_gap": null,
       "grid_row": null,
       "grid_template_areas": null,
       "grid_template_columns": null,
       "grid_template_rows": null,
       "height": null,
       "justify_content": null,
       "justify_items": null,
       "left": null,
       "margin": null,
       "max_height": null,
       "max_width": null,
       "min_height": null,
       "min_width": null,
       "object_fit": null,
       "object_position": null,
       "order": null,
       "overflow": null,
       "padding": null,
       "right": null,
       "top": null,
       "visibility": null,
       "width": null
      }
     },
     "e7e665d9edb64e42ad6cd14016abc6fb": {
      "model_module": "@jupyter-widgets/controls",
      "model_module_version": "2.0.0",
      "model_name": "HTMLModel",
      "state": {
       "_dom_classes": [],
       "_model_module": "@jupyter-widgets/controls",
       "_model_module_version": "2.0.0",
       "_model_name": "HTMLModel",
       "_view_count": null,
       "_view_module": "@jupyter-widgets/controls",
       "_view_module_version": "2.0.0",
       "_view_name": "HTMLView",
       "description": "",
       "description_allow_html": false,
       "layout": "IPY_MODEL_a7a9fd3c4cf141119b5f13f12cd554d2",
       "placeholder": "​",
       "style": "IPY_MODEL_3f1c51b1970d4c8885006d93f7d1cfef",
       "tabbable": null,
       "tooltip": null,
       "value": " 268M/268M [00:01&lt;00:00, 245MB/s]"
      }
     },
     "e7f62ff950f644049b1e13159ea8fe1b": {
      "model_module": "@jupyter-widgets/controls",
      "model_module_version": "2.0.0",
      "model_name": "HTMLModel",
      "state": {
       "_dom_classes": [],
       "_model_module": "@jupyter-widgets/controls",
       "_model_module_version": "2.0.0",
       "_model_name": "HTMLModel",
       "_view_count": null,
       "_view_module": "@jupyter-widgets/controls",
       "_view_module_version": "2.0.0",
       "_view_name": "HTMLView",
       "description": "",
       "description_allow_html": false,
       "layout": "IPY_MODEL_4faca6d5b27840129f4ef47dc39512a0",
       "placeholder": "​",
       "style": "IPY_MODEL_a2912ee1fc684892883c51eef38785da",
       "tabbable": null,
       "tooltip": null,
       "value": " 466k/466k [00:00&lt;00:00, 30.5MB/s]"
      }
     },
     "e8772ceeee4142ff98a0336614e13440": {
      "model_module": "@jupyter-widgets/controls",
      "model_module_version": "2.0.0",
      "model_name": "HTMLModel",
      "state": {
       "_dom_classes": [],
       "_model_module": "@jupyter-widgets/controls",
       "_model_module_version": "2.0.0",
       "_model_name": "HTMLModel",
       "_view_count": null,
       "_view_module": "@jupyter-widgets/controls",
       "_view_module_version": "2.0.0",
       "_view_name": "HTMLView",
       "description": "",
       "description_allow_html": false,
       "layout": "IPY_MODEL_a45824d6cb5248b7819382f4d2dde5ad",
       "placeholder": "​",
       "style": "IPY_MODEL_5cb6c4bd6fa843fcb06522ed69867d9e",
       "tabbable": null,
       "tooltip": null,
       "value": "vocab.txt: 100%"
      }
     },
     "ee131dcb77244c4f9d6af2d369824ae5": {
      "model_module": "@jupyter-widgets/base",
      "model_module_version": "2.0.0",
      "model_name": "LayoutModel",
      "state": {
       "_model_module": "@jupyter-widgets/base",
       "_model_module_version": "2.0.0",
       "_model_name": "LayoutModel",
       "_view_count": null,
       "_view_module": "@jupyter-widgets/base",
       "_view_module_version": "2.0.0",
       "_view_name": "LayoutView",
       "align_content": null,
       "align_items": null,
       "align_self": null,
       "border_bottom": null,
       "border_left": null,
       "border_right": null,
       "border_top": null,
       "bottom": null,
       "display": null,
       "flex": null,
       "flex_flow": null,
       "grid_area": null,
       "grid_auto_columns": null,
       "grid_auto_flow": null,
       "grid_auto_rows": null,
       "grid_column": null,
       "grid_gap": null,
       "grid_row": null,
       "grid_template_areas": null,
       "grid_template_columns": null,
       "grid_template_rows": null,
       "height": null,
       "justify_content": null,
       "justify_items": null,
       "left": null,
       "margin": null,
       "max_height": null,
       "max_width": null,
       "min_height": null,
       "min_width": null,
       "object_fit": null,
       "object_position": null,
       "order": null,
       "overflow": null,
       "padding": null,
       "right": null,
       "top": null,
       "visibility": null,
       "width": null
      }
     },
     "f71ee8ab47f9439680011833dc466e70": {
      "model_module": "@jupyter-widgets/base",
      "model_module_version": "2.0.0",
      "model_name": "LayoutModel",
      "state": {
       "_model_module": "@jupyter-widgets/base",
       "_model_module_version": "2.0.0",
       "_model_name": "LayoutModel",
       "_view_count": null,
       "_view_module": "@jupyter-widgets/base",
       "_view_module_version": "2.0.0",
       "_view_name": "LayoutView",
       "align_content": null,
       "align_items": null,
       "align_self": null,
       "border_bottom": null,
       "border_left": null,
       "border_right": null,
       "border_top": null,
       "bottom": null,
       "display": null,
       "flex": null,
       "flex_flow": null,
       "grid_area": null,
       "grid_auto_columns": null,
       "grid_auto_flow": null,
       "grid_auto_rows": null,
       "grid_column": null,
       "grid_gap": null,
       "grid_row": null,
       "grid_template_areas": null,
       "grid_template_columns": null,
       "grid_template_rows": null,
       "height": null,
       "justify_content": null,
       "justify_items": null,
       "left": null,
       "margin": null,
       "max_height": null,
       "max_width": null,
       "min_height": null,
       "min_width": null,
       "object_fit": null,
       "object_position": null,
       "order": null,
       "overflow": null,
       "padding": null,
       "right": null,
       "top": null,
       "visibility": null,
       "width": null
      }
     }
    },
    "version_major": 2,
    "version_minor": 0
   }
  }
 },
 "nbformat": 4,
 "nbformat_minor": 5
}
